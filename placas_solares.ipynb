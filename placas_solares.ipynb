{
 "cells": [
  {
   "cell_type": "code",
   "execution_count": 1,
   "metadata": {},
   "outputs": [],
   "source": [
    "import pandas as pd\n",
    "import matplotlib.pyplot as plt\n",
    "import numpy as np\n",
    "import seaborn as sns"
   ]
  },
  {
   "cell_type": "code",
   "execution_count": 2,
   "metadata": {},
   "outputs": [],
   "source": [
    "from matplotlib.pyplot import rcParams\n",
    "\n",
    "rcParams['figure.figsize'] = 15, 10\n",
    "rcParams[\"font.weight\"] = \"bold\"\n",
    "rcParams[\"axes.labelweight\"] = \"bold\"\n",
    "rcParams[\"font.size\"] = 12"
   ]
  },
  {
   "cell_type": "code",
   "execution_count": 3,
   "metadata": {},
   "outputs": [
    {
     "data": {
      "text/html": [
       "<div>\n",
       "<style scoped>\n",
       "    .dataframe tbody tr th:only-of-type {\n",
       "        vertical-align: middle;\n",
       "    }\n",
       "\n",
       "    .dataframe tbody tr th {\n",
       "        vertical-align: top;\n",
       "    }\n",
       "\n",
       "    .dataframe thead th {\n",
       "        text-align: right;\n",
       "    }\n",
       "</style>\n",
       "<table border=\"1\" class=\"dataframe\">\n",
       "  <thead>\n",
       "    <tr style=\"text-align: right;\">\n",
       "      <th></th>\n",
       "      <th>DATE_TIME</th>\n",
       "      <th>PLANT_ID</th>\n",
       "      <th>SOURCE_KEY</th>\n",
       "      <th>AMBIENT_TEMPERATURE</th>\n",
       "      <th>MODULE_TEMPERATURE</th>\n",
       "      <th>IRRADIATION</th>\n",
       "    </tr>\n",
       "  </thead>\n",
       "  <tbody>\n",
       "    <tr>\n",
       "      <th>0</th>\n",
       "      <td>2020-05-15 00:00:00</td>\n",
       "      <td>4135001</td>\n",
       "      <td>HmiyD2TTLFNqkNe</td>\n",
       "      <td>25.184316</td>\n",
       "      <td>22.857507</td>\n",
       "      <td>0.0</td>\n",
       "    </tr>\n",
       "    <tr>\n",
       "      <th>1</th>\n",
       "      <td>2020-05-15 00:15:00</td>\n",
       "      <td>4135001</td>\n",
       "      <td>HmiyD2TTLFNqkNe</td>\n",
       "      <td>25.084589</td>\n",
       "      <td>22.761668</td>\n",
       "      <td>0.0</td>\n",
       "    </tr>\n",
       "    <tr>\n",
       "      <th>2</th>\n",
       "      <td>2020-05-15 00:30:00</td>\n",
       "      <td>4135001</td>\n",
       "      <td>HmiyD2TTLFNqkNe</td>\n",
       "      <td>24.935753</td>\n",
       "      <td>22.592306</td>\n",
       "      <td>0.0</td>\n",
       "    </tr>\n",
       "    <tr>\n",
       "      <th>3</th>\n",
       "      <td>2020-05-15 00:45:00</td>\n",
       "      <td>4135001</td>\n",
       "      <td>HmiyD2TTLFNqkNe</td>\n",
       "      <td>24.846130</td>\n",
       "      <td>22.360852</td>\n",
       "      <td>0.0</td>\n",
       "    </tr>\n",
       "    <tr>\n",
       "      <th>4</th>\n",
       "      <td>2020-05-15 01:00:00</td>\n",
       "      <td>4135001</td>\n",
       "      <td>HmiyD2TTLFNqkNe</td>\n",
       "      <td>24.621525</td>\n",
       "      <td>22.165423</td>\n",
       "      <td>0.0</td>\n",
       "    </tr>\n",
       "    <tr>\n",
       "      <th>...</th>\n",
       "      <td>...</td>\n",
       "      <td>...</td>\n",
       "      <td>...</td>\n",
       "      <td>...</td>\n",
       "      <td>...</td>\n",
       "      <td>...</td>\n",
       "    </tr>\n",
       "    <tr>\n",
       "      <th>3177</th>\n",
       "      <td>2020-06-17 22:45:00</td>\n",
       "      <td>4135001</td>\n",
       "      <td>HmiyD2TTLFNqkNe</td>\n",
       "      <td>22.150570</td>\n",
       "      <td>21.480377</td>\n",
       "      <td>0.0</td>\n",
       "    </tr>\n",
       "    <tr>\n",
       "      <th>3178</th>\n",
       "      <td>2020-06-17 23:00:00</td>\n",
       "      <td>4135001</td>\n",
       "      <td>HmiyD2TTLFNqkNe</td>\n",
       "      <td>22.129816</td>\n",
       "      <td>21.389024</td>\n",
       "      <td>0.0</td>\n",
       "    </tr>\n",
       "    <tr>\n",
       "      <th>3179</th>\n",
       "      <td>2020-06-17 23:15:00</td>\n",
       "      <td>4135001</td>\n",
       "      <td>HmiyD2TTLFNqkNe</td>\n",
       "      <td>22.008275</td>\n",
       "      <td>20.709211</td>\n",
       "      <td>0.0</td>\n",
       "    </tr>\n",
       "    <tr>\n",
       "      <th>3180</th>\n",
       "      <td>2020-06-17 23:30:00</td>\n",
       "      <td>4135001</td>\n",
       "      <td>HmiyD2TTLFNqkNe</td>\n",
       "      <td>21.969495</td>\n",
       "      <td>20.734963</td>\n",
       "      <td>0.0</td>\n",
       "    </tr>\n",
       "    <tr>\n",
       "      <th>3181</th>\n",
       "      <td>2020-06-17 23:45:00</td>\n",
       "      <td>4135001</td>\n",
       "      <td>HmiyD2TTLFNqkNe</td>\n",
       "      <td>21.909288</td>\n",
       "      <td>20.427972</td>\n",
       "      <td>0.0</td>\n",
       "    </tr>\n",
       "  </tbody>\n",
       "</table>\n",
       "<p>3182 rows × 6 columns</p>\n",
       "</div>"
      ],
      "text/plain": [
       "                DATE_TIME  PLANT_ID       SOURCE_KEY  AMBIENT_TEMPERATURE  \\\n",
       "0     2020-05-15 00:00:00   4135001  HmiyD2TTLFNqkNe            25.184316   \n",
       "1     2020-05-15 00:15:00   4135001  HmiyD2TTLFNqkNe            25.084589   \n",
       "2     2020-05-15 00:30:00   4135001  HmiyD2TTLFNqkNe            24.935753   \n",
       "3     2020-05-15 00:45:00   4135001  HmiyD2TTLFNqkNe            24.846130   \n",
       "4     2020-05-15 01:00:00   4135001  HmiyD2TTLFNqkNe            24.621525   \n",
       "...                   ...       ...              ...                  ...   \n",
       "3177  2020-06-17 22:45:00   4135001  HmiyD2TTLFNqkNe            22.150570   \n",
       "3178  2020-06-17 23:00:00   4135001  HmiyD2TTLFNqkNe            22.129816   \n",
       "3179  2020-06-17 23:15:00   4135001  HmiyD2TTLFNqkNe            22.008275   \n",
       "3180  2020-06-17 23:30:00   4135001  HmiyD2TTLFNqkNe            21.969495   \n",
       "3181  2020-06-17 23:45:00   4135001  HmiyD2TTLFNqkNe            21.909288   \n",
       "\n",
       "      MODULE_TEMPERATURE  IRRADIATION  \n",
       "0              22.857507          0.0  \n",
       "1              22.761668          0.0  \n",
       "2              22.592306          0.0  \n",
       "3              22.360852          0.0  \n",
       "4              22.165423          0.0  \n",
       "...                  ...          ...  \n",
       "3177           21.480377          0.0  \n",
       "3178           21.389024          0.0  \n",
       "3179           20.709211          0.0  \n",
       "3180           20.734963          0.0  \n",
       "3181           20.427972          0.0  \n",
       "\n",
       "[3182 rows x 6 columns]"
      ]
     },
     "execution_count": 3,
     "metadata": {},
     "output_type": "execute_result"
    }
   ],
   "source": [
    "df_placas = pd.read_csv('placas_solares.csv')\n",
    "\n",
    "df_placas"
   ]
  },
  {
   "cell_type": "code",
   "execution_count": 4,
   "metadata": {},
   "outputs": [
    {
     "data": {
      "text/plain": [
       "DATE_TIME              0\n",
       "PLANT_ID               0\n",
       "SOURCE_KEY             0\n",
       "AMBIENT_TEMPERATURE    0\n",
       "MODULE_TEMPERATURE     0\n",
       "IRRADIATION            0\n",
       "dtype: int64"
      ]
     },
     "execution_count": 4,
     "metadata": {},
     "output_type": "execute_result"
    }
   ],
   "source": [
    "df_placas.isna().sum() # Verificando los valores nulos"
   ]
  },
  {
   "cell_type": "code",
   "execution_count": 5,
   "metadata": {},
   "outputs": [
    {
     "name": "stdout",
     "output_type": "stream",
     "text": [
      "<class 'pandas.core.frame.DataFrame'>\n",
      "RangeIndex: 3182 entries, 0 to 3181\n",
      "Data columns (total 6 columns):\n",
      " #   Column               Non-Null Count  Dtype  \n",
      "---  ------               --------------  -----  \n",
      " 0   DATE_TIME            3182 non-null   object \n",
      " 1   PLANT_ID             3182 non-null   int64  \n",
      " 2   SOURCE_KEY           3182 non-null   object \n",
      " 3   AMBIENT_TEMPERATURE  3182 non-null   float64\n",
      " 4   MODULE_TEMPERATURE   3182 non-null   float64\n",
      " 5   IRRADIATION          3182 non-null   float64\n",
      "dtypes: float64(3), int64(1), object(2)\n",
      "memory usage: 149.3+ KB\n"
     ]
    }
   ],
   "source": [
    "df_placas.info() # Verificando los tipos de datos"
   ]
  },
  {
   "cell_type": "code",
   "execution_count": 6,
   "metadata": {},
   "outputs": [
    {
     "data": {
      "text/plain": [
       "0       False\n",
       "1       False\n",
       "2       False\n",
       "3       False\n",
       "4       False\n",
       "        ...  \n",
       "3177    False\n",
       "3178    False\n",
       "3179    False\n",
       "3180    False\n",
       "3181    False\n",
       "Name: MODULE_TEMPERATURE, Length: 3182, dtype: bool"
      ]
     },
     "execution_count": 6,
     "metadata": {},
     "output_type": "execute_result"
    }
   ],
   "source": [
    "df_placas[\"MODULE_TEMPERATURE\"].isna()"
   ]
  },
  {
   "cell_type": "code",
   "execution_count": 7,
   "metadata": {},
   "outputs": [
    {
     "data": {
      "text/plain": [
       "0"
      ]
     },
     "execution_count": 7,
     "metadata": {},
     "output_type": "execute_result"
    }
   ],
   "source": [
    "df_placas[\"MODULE_TEMPERATURE\"].isna().sum()"
   ]
  },
  {
   "cell_type": "code",
   "execution_count": 8,
   "metadata": {},
   "outputs": [
    {
     "data": {
      "text/plain": [
       "Series([], Name: MODULE_TEMPERATURE, dtype: float64)"
      ]
     },
     "execution_count": 8,
     "metadata": {},
     "output_type": "execute_result"
    }
   ],
   "source": [
    "df_placas[\"MODULE_TEMPERATURE\"][df_placas[\"MODULE_TEMPERATURE\"].isna()]"
   ]
  },
  {
   "cell_type": "code",
   "execution_count": 9,
   "metadata": {},
   "outputs": [
    {
     "data": {
      "text/html": [
       "<div>\n",
       "<style scoped>\n",
       "    .dataframe tbody tr th:only-of-type {\n",
       "        vertical-align: middle;\n",
       "    }\n",
       "\n",
       "    .dataframe tbody tr th {\n",
       "        vertical-align: top;\n",
       "    }\n",
       "\n",
       "    .dataframe thead th {\n",
       "        text-align: right;\n",
       "    }\n",
       "</style>\n",
       "<table border=\"1\" class=\"dataframe\">\n",
       "  <thead>\n",
       "    <tr style=\"text-align: right;\">\n",
       "      <th></th>\n",
       "      <th>MODULE_TEMPERATURE</th>\n",
       "      <th>AMBIENT_TEMPERATURE</th>\n",
       "      <th>IRRADIATION</th>\n",
       "    </tr>\n",
       "  </thead>\n",
       "  <tbody>\n",
       "    <tr>\n",
       "      <th>20</th>\n",
       "      <td>22.551908</td>\n",
       "      <td>24.177106</td>\n",
       "      <td>0.000000</td>\n",
       "    </tr>\n",
       "    <tr>\n",
       "      <th>21</th>\n",
       "      <td>22.979492</td>\n",
       "      <td>24.304888</td>\n",
       "      <td>0.000000</td>\n",
       "    </tr>\n",
       "    <tr>\n",
       "      <th>22</th>\n",
       "      <td>23.452380</td>\n",
       "      <td>24.328727</td>\n",
       "      <td>0.000000</td>\n",
       "    </tr>\n",
       "    <tr>\n",
       "      <th>23</th>\n",
       "      <td>23.096692</td>\n",
       "      <td>24.289211</td>\n",
       "      <td>0.000863</td>\n",
       "    </tr>\n",
       "    <tr>\n",
       "      <th>24</th>\n",
       "      <td>22.206757</td>\n",
       "      <td>24.088446</td>\n",
       "      <td>0.005887</td>\n",
       "    </tr>\n",
       "    <tr>\n",
       "      <th>...</th>\n",
       "      <td>...</td>\n",
       "      <td>...</td>\n",
       "      <td>...</td>\n",
       "    </tr>\n",
       "    <tr>\n",
       "      <th>325</th>\n",
       "      <td>41.369017</td>\n",
       "      <td>25.706631</td>\n",
       "      <td>0.562313</td>\n",
       "    </tr>\n",
       "    <tr>\n",
       "      <th>326</th>\n",
       "      <td>46.148806</td>\n",
       "      <td>26.310502</td>\n",
       "      <td>0.603215</td>\n",
       "    </tr>\n",
       "    <tr>\n",
       "      <th>327</th>\n",
       "      <td>45.970447</td>\n",
       "      <td>26.840597</td>\n",
       "      <td>0.593244</td>\n",
       "    </tr>\n",
       "    <tr>\n",
       "      <th>328</th>\n",
       "      <td>44.061045</td>\n",
       "      <td>26.932355</td>\n",
       "      <td>0.551130</td>\n",
       "    </tr>\n",
       "    <tr>\n",
       "      <th>329</th>\n",
       "      <td>45.002500</td>\n",
       "      <td>27.019004</td>\n",
       "      <td>0.567370</td>\n",
       "    </tr>\n",
       "  </tbody>\n",
       "</table>\n",
       "<p>310 rows × 3 columns</p>\n",
       "</div>"
      ],
      "text/plain": [
       "     MODULE_TEMPERATURE  AMBIENT_TEMPERATURE  IRRADIATION\n",
       "20            22.551908            24.177106     0.000000\n",
       "21            22.979492            24.304888     0.000000\n",
       "22            23.452380            24.328727     0.000000\n",
       "23            23.096692            24.289211     0.000863\n",
       "24            22.206757            24.088446     0.005887\n",
       "..                  ...                  ...          ...\n",
       "325           41.369017            25.706631     0.562313\n",
       "326           46.148806            26.310502     0.603215\n",
       "327           45.970447            26.840597     0.593244\n",
       "328           44.061045            26.932355     0.551130\n",
       "329           45.002500            27.019004     0.567370\n",
       "\n",
       "[310 rows x 3 columns]"
      ]
     },
     "execution_count": 9,
     "metadata": {},
     "output_type": "execute_result"
    }
   ],
   "source": [
    "df_placas[20:330][[\"MODULE_TEMPERATURE\", \"AMBIENT_TEMPERATURE\", \"IRRADIATION\"]]"
   ]
  },
  {
   "cell_type": "code",
   "execution_count": 10,
   "metadata": {},
   "outputs": [
    {
     "data": {
      "text/html": [
       "<div>\n",
       "<style scoped>\n",
       "    .dataframe tbody tr th:only-of-type {\n",
       "        vertical-align: middle;\n",
       "    }\n",
       "\n",
       "    .dataframe tbody tr th {\n",
       "        vertical-align: top;\n",
       "    }\n",
       "\n",
       "    .dataframe thead th {\n",
       "        text-align: right;\n",
       "    }\n",
       "</style>\n",
       "<table border=\"1\" class=\"dataframe\">\n",
       "  <thead>\n",
       "    <tr style=\"text-align: right;\">\n",
       "      <th></th>\n",
       "      <th>DATE_TIME</th>\n",
       "      <th>PLANT_ID</th>\n",
       "      <th>SOURCE_KEY</th>\n",
       "      <th>AMBIENT_TEMPERATURE</th>\n",
       "      <th>MODULE_TEMPERATURE</th>\n",
       "      <th>IRRADIATION</th>\n",
       "    </tr>\n",
       "  </thead>\n",
       "  <tbody>\n",
       "  </tbody>\n",
       "</table>\n",
       "</div>"
      ],
      "text/plain": [
       "Empty DataFrame\n",
       "Columns: [DATE_TIME, PLANT_ID, SOURCE_KEY, AMBIENT_TEMPERATURE, MODULE_TEMPERATURE, IRRADIATION]\n",
       "Index: []"
      ]
     },
     "execution_count": 10,
     "metadata": {},
     "output_type": "execute_result"
    }
   ],
   "source": [
    "df_placas.drop(df_placas.dropna().index)"
   ]
  },
  {
   "cell_type": "code",
   "execution_count": 11,
   "metadata": {},
   "outputs": [
    {
     "data": {
      "text/plain": [
       "3182"
      ]
     },
     "execution_count": 11,
     "metadata": {},
     "output_type": "execute_result"
    }
   ],
   "source": [
    "# No hay nada que limpiar\n",
    "\n",
    "df_placas.shape[0] - 0"
   ]
  },
  {
   "cell_type": "code",
   "execution_count": 12,
   "metadata": {},
   "outputs": [
    {
     "data": {
      "text/html": [
       "<div>\n",
       "<style scoped>\n",
       "    .dataframe tbody tr th:only-of-type {\n",
       "        vertical-align: middle;\n",
       "    }\n",
       "\n",
       "    .dataframe tbody tr th {\n",
       "        vertical-align: top;\n",
       "    }\n",
       "\n",
       "    .dataframe thead th {\n",
       "        text-align: right;\n",
       "    }\n",
       "</style>\n",
       "<table border=\"1\" class=\"dataframe\">\n",
       "  <thead>\n",
       "    <tr style=\"text-align: right;\">\n",
       "      <th></th>\n",
       "      <th>DATE_TIME</th>\n",
       "      <th>PLANT_ID</th>\n",
       "      <th>SOURCE_KEY</th>\n",
       "      <th>AMBIENT_TEMPERATURE</th>\n",
       "      <th>MODULE_TEMPERATURE</th>\n",
       "      <th>IRRADIATION</th>\n",
       "    </tr>\n",
       "  </thead>\n",
       "  <tbody>\n",
       "    <tr>\n",
       "      <th>0</th>\n",
       "      <td>2020-05-15 00:00:00</td>\n",
       "      <td>4135001</td>\n",
       "      <td>HmiyD2TTLFNqkNe</td>\n",
       "      <td>25.184316</td>\n",
       "      <td>22.857507</td>\n",
       "      <td>0.0</td>\n",
       "    </tr>\n",
       "    <tr>\n",
       "      <th>1</th>\n",
       "      <td>2020-05-15 00:15:00</td>\n",
       "      <td>4135001</td>\n",
       "      <td>HmiyD2TTLFNqkNe</td>\n",
       "      <td>25.084589</td>\n",
       "      <td>22.761668</td>\n",
       "      <td>0.0</td>\n",
       "    </tr>\n",
       "    <tr>\n",
       "      <th>2</th>\n",
       "      <td>2020-05-15 00:30:00</td>\n",
       "      <td>4135001</td>\n",
       "      <td>HmiyD2TTLFNqkNe</td>\n",
       "      <td>24.935753</td>\n",
       "      <td>22.592306</td>\n",
       "      <td>0.0</td>\n",
       "    </tr>\n",
       "    <tr>\n",
       "      <th>3</th>\n",
       "      <td>2020-05-15 00:45:00</td>\n",
       "      <td>4135001</td>\n",
       "      <td>HmiyD2TTLFNqkNe</td>\n",
       "      <td>24.846130</td>\n",
       "      <td>22.360852</td>\n",
       "      <td>0.0</td>\n",
       "    </tr>\n",
       "    <tr>\n",
       "      <th>4</th>\n",
       "      <td>2020-05-15 01:00:00</td>\n",
       "      <td>4135001</td>\n",
       "      <td>HmiyD2TTLFNqkNe</td>\n",
       "      <td>24.621525</td>\n",
       "      <td>22.165423</td>\n",
       "      <td>0.0</td>\n",
       "    </tr>\n",
       "    <tr>\n",
       "      <th>...</th>\n",
       "      <td>...</td>\n",
       "      <td>...</td>\n",
       "      <td>...</td>\n",
       "      <td>...</td>\n",
       "      <td>...</td>\n",
       "      <td>...</td>\n",
       "    </tr>\n",
       "    <tr>\n",
       "      <th>3177</th>\n",
       "      <td>2020-06-17 22:45:00</td>\n",
       "      <td>4135001</td>\n",
       "      <td>HmiyD2TTLFNqkNe</td>\n",
       "      <td>22.150570</td>\n",
       "      <td>21.480377</td>\n",
       "      <td>0.0</td>\n",
       "    </tr>\n",
       "    <tr>\n",
       "      <th>3178</th>\n",
       "      <td>2020-06-17 23:00:00</td>\n",
       "      <td>4135001</td>\n",
       "      <td>HmiyD2TTLFNqkNe</td>\n",
       "      <td>22.129816</td>\n",
       "      <td>21.389024</td>\n",
       "      <td>0.0</td>\n",
       "    </tr>\n",
       "    <tr>\n",
       "      <th>3179</th>\n",
       "      <td>2020-06-17 23:15:00</td>\n",
       "      <td>4135001</td>\n",
       "      <td>HmiyD2TTLFNqkNe</td>\n",
       "      <td>22.008275</td>\n",
       "      <td>20.709211</td>\n",
       "      <td>0.0</td>\n",
       "    </tr>\n",
       "    <tr>\n",
       "      <th>3180</th>\n",
       "      <td>2020-06-17 23:30:00</td>\n",
       "      <td>4135001</td>\n",
       "      <td>HmiyD2TTLFNqkNe</td>\n",
       "      <td>21.969495</td>\n",
       "      <td>20.734963</td>\n",
       "      <td>0.0</td>\n",
       "    </tr>\n",
       "    <tr>\n",
       "      <th>3181</th>\n",
       "      <td>2020-06-17 23:45:00</td>\n",
       "      <td>4135001</td>\n",
       "      <td>HmiyD2TTLFNqkNe</td>\n",
       "      <td>21.909288</td>\n",
       "      <td>20.427972</td>\n",
       "      <td>0.0</td>\n",
       "    </tr>\n",
       "  </tbody>\n",
       "</table>\n",
       "<p>3182 rows × 6 columns</p>\n",
       "</div>"
      ],
      "text/plain": [
       "                DATE_TIME  PLANT_ID       SOURCE_KEY  AMBIENT_TEMPERATURE  \\\n",
       "0     2020-05-15 00:00:00   4135001  HmiyD2TTLFNqkNe            25.184316   \n",
       "1     2020-05-15 00:15:00   4135001  HmiyD2TTLFNqkNe            25.084589   \n",
       "2     2020-05-15 00:30:00   4135001  HmiyD2TTLFNqkNe            24.935753   \n",
       "3     2020-05-15 00:45:00   4135001  HmiyD2TTLFNqkNe            24.846130   \n",
       "4     2020-05-15 01:00:00   4135001  HmiyD2TTLFNqkNe            24.621525   \n",
       "...                   ...       ...              ...                  ...   \n",
       "3177  2020-06-17 22:45:00   4135001  HmiyD2TTLFNqkNe            22.150570   \n",
       "3178  2020-06-17 23:00:00   4135001  HmiyD2TTLFNqkNe            22.129816   \n",
       "3179  2020-06-17 23:15:00   4135001  HmiyD2TTLFNqkNe            22.008275   \n",
       "3180  2020-06-17 23:30:00   4135001  HmiyD2TTLFNqkNe            21.969495   \n",
       "3181  2020-06-17 23:45:00   4135001  HmiyD2TTLFNqkNe            21.909288   \n",
       "\n",
       "      MODULE_TEMPERATURE  IRRADIATION  \n",
       "0              22.857507          0.0  \n",
       "1              22.761668          0.0  \n",
       "2              22.592306          0.0  \n",
       "3              22.360852          0.0  \n",
       "4              22.165423          0.0  \n",
       "...                  ...          ...  \n",
       "3177           21.480377          0.0  \n",
       "3178           21.389024          0.0  \n",
       "3179           20.709211          0.0  \n",
       "3180           20.734963          0.0  \n",
       "3181           20.427972          0.0  \n",
       "\n",
       "[3182 rows x 6 columns]"
      ]
     },
     "execution_count": 12,
     "metadata": {},
     "output_type": "execute_result"
    }
   ],
   "source": [
    "df_solar_filt = df_placas.dropna().reset_index(drop=True)\n",
    "df_solar_filt"
   ]
  },
  {
   "attachments": {},
   "cell_type": "markdown",
   "metadata": {},
   "source": [
    "### Análisis exploratorio, tratamiento y limpieza de datos\n"
   ]
  },
  {
   "cell_type": "code",
   "execution_count": 13,
   "metadata": {},
   "outputs": [
    {
     "data": {
      "text/html": [
       "<div>\n",
       "<style scoped>\n",
       "    .dataframe tbody tr th:only-of-type {\n",
       "        vertical-align: middle;\n",
       "    }\n",
       "\n",
       "    .dataframe tbody tr th {\n",
       "        vertical-align: top;\n",
       "    }\n",
       "\n",
       "    .dataframe thead th {\n",
       "        text-align: right;\n",
       "    }\n",
       "</style>\n",
       "<table border=\"1\" class=\"dataframe\">\n",
       "  <thead>\n",
       "    <tr style=\"text-align: right;\">\n",
       "      <th></th>\n",
       "      <th>PLANT_ID</th>\n",
       "      <th>AMBIENT_TEMPERATURE</th>\n",
       "      <th>MODULE_TEMPERATURE</th>\n",
       "      <th>IRRADIATION</th>\n",
       "    </tr>\n",
       "  </thead>\n",
       "  <tbody>\n",
       "    <tr>\n",
       "      <th>count</th>\n",
       "      <td>3182.0</td>\n",
       "      <td>3182.000000</td>\n",
       "      <td>3182.000000</td>\n",
       "      <td>3182.000000</td>\n",
       "    </tr>\n",
       "    <tr>\n",
       "      <th>mean</th>\n",
       "      <td>4135001.0</td>\n",
       "      <td>25.531606</td>\n",
       "      <td>31.091015</td>\n",
       "      <td>0.228313</td>\n",
       "    </tr>\n",
       "    <tr>\n",
       "      <th>std</th>\n",
       "      <td>0.0</td>\n",
       "      <td>3.354856</td>\n",
       "      <td>12.261222</td>\n",
       "      <td>0.300836</td>\n",
       "    </tr>\n",
       "    <tr>\n",
       "      <th>min</th>\n",
       "      <td>4135001.0</td>\n",
       "      <td>20.398505</td>\n",
       "      <td>18.140415</td>\n",
       "      <td>0.000000</td>\n",
       "    </tr>\n",
       "    <tr>\n",
       "      <th>25%</th>\n",
       "      <td>4135001.0</td>\n",
       "      <td>22.705182</td>\n",
       "      <td>21.090553</td>\n",
       "      <td>0.000000</td>\n",
       "    </tr>\n",
       "    <tr>\n",
       "      <th>50%</th>\n",
       "      <td>4135001.0</td>\n",
       "      <td>24.613814</td>\n",
       "      <td>24.618060</td>\n",
       "      <td>0.024653</td>\n",
       "    </tr>\n",
       "    <tr>\n",
       "      <th>75%</th>\n",
       "      <td>4135001.0</td>\n",
       "      <td>27.920532</td>\n",
       "      <td>41.307840</td>\n",
       "      <td>0.449588</td>\n",
       "    </tr>\n",
       "    <tr>\n",
       "      <th>max</th>\n",
       "      <td>4135001.0</td>\n",
       "      <td>35.252486</td>\n",
       "      <td>65.545714</td>\n",
       "      <td>1.221652</td>\n",
       "    </tr>\n",
       "  </tbody>\n",
       "</table>\n",
       "</div>"
      ],
      "text/plain": [
       "        PLANT_ID  AMBIENT_TEMPERATURE  MODULE_TEMPERATURE  IRRADIATION\n",
       "count     3182.0          3182.000000         3182.000000  3182.000000\n",
       "mean   4135001.0            25.531606           31.091015     0.228313\n",
       "std          0.0             3.354856           12.261222     0.300836\n",
       "min    4135001.0            20.398505           18.140415     0.000000\n",
       "25%    4135001.0            22.705182           21.090553     0.000000\n",
       "50%    4135001.0            24.613814           24.618060     0.024653\n",
       "75%    4135001.0            27.920532           41.307840     0.449588\n",
       "max    4135001.0            35.252486           65.545714     1.221652"
      ]
     },
     "execution_count": 13,
     "metadata": {},
     "output_type": "execute_result"
    }
   ],
   "source": [
    "df_solar_filt.describe()"
   ]
  },
  {
   "cell_type": "code",
   "execution_count": 14,
   "metadata": {},
   "outputs": [
    {
     "data": {
      "text/plain": [
       "DATE_TIME               object\n",
       "PLANT_ID                 int64\n",
       "SOURCE_KEY              object\n",
       "AMBIENT_TEMPERATURE    float64\n",
       "MODULE_TEMPERATURE     float64\n",
       "IRRADIATION            float64\n",
       "dtype: object"
      ]
     },
     "execution_count": 14,
     "metadata": {},
     "output_type": "execute_result"
    }
   ],
   "source": [
    "# consultar el tipo de datos\n",
    "df_solar_filt.dtypes"
   ]
  },
  {
   "cell_type": "code",
   "execution_count": 15,
   "metadata": {},
   "outputs": [
    {
     "data": {
      "text/plain": [
       "DATE_TIME     object\n",
       "SOURCE_KEY    object\n",
       "dtype: object"
      ]
     },
     "execution_count": 15,
     "metadata": {},
     "output_type": "execute_result"
    }
   ],
   "source": [
    "df_solar_filt.dtypes[df_solar_filt.dtypes == \"object\"]"
   ]
  },
  {
   "cell_type": "code",
   "execution_count": 16,
   "metadata": {},
   "outputs": [
    {
     "data": {
      "text/plain": [
       "2020-05-15 00:00:00    1\n",
       "2020-06-06 20:45:00    1\n",
       "2020-06-06 21:15:00    1\n",
       "2020-06-06 21:30:00    1\n",
       "2020-06-06 21:45:00    1\n",
       "                      ..\n",
       "2020-05-26 17:45:00    1\n",
       "2020-05-26 18:00:00    1\n",
       "2020-05-26 18:15:00    1\n",
       "2020-05-26 18:30:00    1\n",
       "2020-06-17 23:45:00    1\n",
       "Name: DATE_TIME, Length: 3182, dtype: int64"
      ]
     },
     "execution_count": 16,
     "metadata": {},
     "output_type": "execute_result"
    }
   ],
   "source": [
    "\n",
    "df_solar_filt['DATE_TIME'].value_counts()"
   ]
  },
  {
   "cell_type": "code",
   "execution_count": 17,
   "metadata": {},
   "outputs": [],
   "source": [
    "# columnas a eliminar por ser informativas\n",
    "columnas_drop = [\"DATE_TIME\", \"SOURCE_KEY\"]"
   ]
  },
  {
   "cell_type": "code",
   "execution_count": 18,
   "metadata": {},
   "outputs": [
    {
     "name": "stdout",
     "output_type": "stream",
     "text": [
      "Tamaño del tablón filtrado:  (3182, 6)\n",
      "Tamaño del tablón nuevo:  (3182, 4)\n"
     ]
    }
   ],
   "source": [
    "df_solar_filt2 = df_solar_filt.drop(columns = columnas_drop)\n",
    "print(\"Tamaño del tablón filtrado: \", df_solar_filt.shape)\n",
    "print(\"Tamaño del tablón nuevo: \", df_solar_filt2.shape)"
   ]
  },
  {
   "cell_type": "code",
   "execution_count": 19,
   "metadata": {},
   "outputs": [
    {
     "data": {
      "text/plain": [
       "float64    3\n",
       "int64      1\n",
       "dtype: int64"
      ]
     },
     "execution_count": 19,
     "metadata": {},
     "output_type": "execute_result"
    }
   ],
   "source": [
    "df_solar_filt2.dtypes.value_counts()"
   ]
  },
  {
   "attachments": {},
   "cell_type": "markdown",
   "metadata": {},
   "source": [
    "### Reducción de variables\n",
    "Importancia de variables"
   ]
  },
  {
   "cell_type": "code",
   "execution_count": 20,
   "metadata": {},
   "outputs": [
    {
     "name": "stdout",
     "output_type": "stream",
     "text": [
      "MODULE_TEMPERATURE\n",
      "['PLANT_ID', 'AMBIENT_TEMPERATURE', 'IRRADIATION']\n"
     ]
    }
   ],
   "source": [
    "# generar la lista de features y la variable target\n",
    "target = 'MODULE_TEMPERATURE'\n",
    "features = [x for x in df_solar_filt2.columns if x != target]\n",
    "\n",
    "print(target)\n",
    "print(features)"
   ]
  },
  {
   "cell_type": "code",
   "execution_count": 21,
   "metadata": {},
   "outputs": [
    {
     "data": {
      "text/plain": [
       "0       22.857507\n",
       "1       22.761668\n",
       "2       22.592306\n",
       "3       22.360852\n",
       "4       22.165423\n",
       "          ...    \n",
       "3177    21.480377\n",
       "3178    21.389024\n",
       "3179    20.709211\n",
       "3180    20.734963\n",
       "3181    20.427972\n",
       "Name: MODULE_TEMPERATURE, Length: 3182, dtype: float64"
      ]
     },
     "execution_count": 21,
     "metadata": {},
     "output_type": "execute_result"
    }
   ],
   "source": [
    "df_solar_filt2[target]"
   ]
  },
  {
   "cell_type": "code",
   "execution_count": 22,
   "metadata": {},
   "outputs": [
    {
     "data": {
      "text/html": [
       "<style>#sk-container-id-1 {color: black;background-color: white;}#sk-container-id-1 pre{padding: 0;}#sk-container-id-1 div.sk-toggleable {background-color: white;}#sk-container-id-1 label.sk-toggleable__label {cursor: pointer;display: block;width: 100%;margin-bottom: 0;padding: 0.3em;box-sizing: border-box;text-align: center;}#sk-container-id-1 label.sk-toggleable__label-arrow:before {content: \"▸\";float: left;margin-right: 0.25em;color: #696969;}#sk-container-id-1 label.sk-toggleable__label-arrow:hover:before {color: black;}#sk-container-id-1 div.sk-estimator:hover label.sk-toggleable__label-arrow:before {color: black;}#sk-container-id-1 div.sk-toggleable__content {max-height: 0;max-width: 0;overflow: hidden;text-align: left;background-color: #f0f8ff;}#sk-container-id-1 div.sk-toggleable__content pre {margin: 0.2em;color: black;border-radius: 0.25em;background-color: #f0f8ff;}#sk-container-id-1 input.sk-toggleable__control:checked~div.sk-toggleable__content {max-height: 200px;max-width: 100%;overflow: auto;}#sk-container-id-1 input.sk-toggleable__control:checked~label.sk-toggleable__label-arrow:before {content: \"▾\";}#sk-container-id-1 div.sk-estimator input.sk-toggleable__control:checked~label.sk-toggleable__label {background-color: #d4ebff;}#sk-container-id-1 div.sk-label input.sk-toggleable__control:checked~label.sk-toggleable__label {background-color: #d4ebff;}#sk-container-id-1 input.sk-hidden--visually {border: 0;clip: rect(1px 1px 1px 1px);clip: rect(1px, 1px, 1px, 1px);height: 1px;margin: -1px;overflow: hidden;padding: 0;position: absolute;width: 1px;}#sk-container-id-1 div.sk-estimator {font-family: monospace;background-color: #f0f8ff;border: 1px dotted black;border-radius: 0.25em;box-sizing: border-box;margin-bottom: 0.5em;}#sk-container-id-1 div.sk-estimator:hover {background-color: #d4ebff;}#sk-container-id-1 div.sk-parallel-item::after {content: \"\";width: 100%;border-bottom: 1px solid gray;flex-grow: 1;}#sk-container-id-1 div.sk-label:hover label.sk-toggleable__label {background-color: #d4ebff;}#sk-container-id-1 div.sk-serial::before {content: \"\";position: absolute;border-left: 1px solid gray;box-sizing: border-box;top: 0;bottom: 0;left: 50%;z-index: 0;}#sk-container-id-1 div.sk-serial {display: flex;flex-direction: column;align-items: center;background-color: white;padding-right: 0.2em;padding-left: 0.2em;position: relative;}#sk-container-id-1 div.sk-item {position: relative;z-index: 1;}#sk-container-id-1 div.sk-parallel {display: flex;align-items: stretch;justify-content: center;background-color: white;position: relative;}#sk-container-id-1 div.sk-item::before, #sk-container-id-1 div.sk-parallel-item::before {content: \"\";position: absolute;border-left: 1px solid gray;box-sizing: border-box;top: 0;bottom: 0;left: 50%;z-index: -1;}#sk-container-id-1 div.sk-parallel-item {display: flex;flex-direction: column;z-index: 1;position: relative;background-color: white;}#sk-container-id-1 div.sk-parallel-item:first-child::after {align-self: flex-end;width: 50%;}#sk-container-id-1 div.sk-parallel-item:last-child::after {align-self: flex-start;width: 50%;}#sk-container-id-1 div.sk-parallel-item:only-child::after {width: 0;}#sk-container-id-1 div.sk-dashed-wrapped {border: 1px dashed gray;margin: 0 0.4em 0.5em 0.4em;box-sizing: border-box;padding-bottom: 0.4em;background-color: white;}#sk-container-id-1 div.sk-label label {font-family: monospace;font-weight: bold;display: inline-block;line-height: 1.2em;}#sk-container-id-1 div.sk-label-container {text-align: center;}#sk-container-id-1 div.sk-container {/* jupyter's `normalize.less` sets `[hidden] { display: none; }` but bootstrap.min.css set `[hidden] { display: none !important; }` so we also need the `!important` here to be able to override the default hidden behavior on the sphinx rendered scikit-learn.org. See: https://github.com/scikit-learn/scikit-learn/issues/21755 */display: inline-block !important;position: relative;}#sk-container-id-1 div.sk-text-repr-fallback {display: none;}</style><div id=\"sk-container-id-1\" class=\"sk-top-container\"><div class=\"sk-text-repr-fallback\"><pre>DecisionTreeRegressor(max_depth=13, random_state=42)</pre><b>In a Jupyter environment, please rerun this cell to show the HTML representation or trust the notebook. <br />On GitHub, the HTML representation is unable to render, please try loading this page with nbviewer.org.</b></div><div class=\"sk-container\" hidden><div class=\"sk-item\"><div class=\"sk-estimator sk-toggleable\"><input class=\"sk-toggleable__control sk-hidden--visually\" id=\"sk-estimator-id-1\" type=\"checkbox\" checked><label for=\"sk-estimator-id-1\" class=\"sk-toggleable__label sk-toggleable__label-arrow\">DecisionTreeRegressor</label><div class=\"sk-toggleable__content\"><pre>DecisionTreeRegressor(max_depth=13, random_state=42)</pre></div></div></div></div></div>"
      ],
      "text/plain": [
       "DecisionTreeRegressor(max_depth=13, random_state=42)"
      ]
     },
     "execution_count": 22,
     "metadata": {},
     "output_type": "execute_result"
    }
   ],
   "source": [
    "# Importar el algoritmo de árboles de decisión\n",
    "from sklearn.tree import DecisionTreeRegressor\n",
    "\n",
    "# Asignar el algortimo e indicar la profundidad máxima del árbol (con un número rotandamente grande para sobreajustar)\n",
    "arbol_importancia = DecisionTreeRegressor(max_depth=len(features)+10, random_state=42)\n",
    "\n",
    "# Entrenar un árbol con todo el conjunto de datos\n",
    "arbol_importancia.fit(X=df_solar_filt2[features], y=df_solar_filt2[target])"
   ]
  },
  {
   "cell_type": "code",
   "execution_count": 23,
   "metadata": {},
   "outputs": [
    {
     "name": "stdout",
     "output_type": "stream",
     "text": [
      "Mean Absolute Error: 0.2913544437821614\n",
      "Mean Absolute Percentage Error: 1.0937747350791314\n",
      "Mean Squared Error: 0.2983069852067644\n",
      "Root Mean Squared Error: 0.5461748668757694\n",
      "R^2 coefficient of determination: 0.9980151282786599\n"
     ]
    }
   ],
   "source": [
    "# Comprobamos que se obtiene un R^2 muy alto. Lo desesable es que sea 1.\n",
    "y_pred_arbol = arbol_importancia.predict(X=df_solar_filt2[features])\n",
    "\n",
    "from sklearn.metrics import mean_absolute_error\n",
    "from sklearn.metrics import mean_absolute_percentage_error\n",
    "from sklearn.metrics import mean_squared_error\n",
    "from sklearn.metrics import r2_score\n",
    "\n",
    "# Métricas para evaluar la calidad del modelo\n",
    "print('Mean Absolute Error:', mean_absolute_error(df_solar_filt2[target], y_pred_arbol))\n",
    "print('Mean Absolute Percentage Error:', mean_absolute_percentage_error(df_solar_filt2[target], y_pred_arbol)*100)\n",
    "print('Mean Squared Error:', mean_squared_error(df_solar_filt2[target], y_pred_arbol))\n",
    "print('Root Mean Squared Error:', np.sqrt(mean_squared_error(df_solar_filt2[target], y_pred_arbol)))\n",
    "print('R^2 coefficient of determination:', r2_score(df_solar_filt2[target], y_pred_arbol))"
   ]
  },
  {
   "cell_type": "code",
   "execution_count": 24,
   "metadata": {},
   "outputs": [
    {
     "data": {
      "text/plain": [
       "array([0.        , 0.06689697, 0.93310303])"
      ]
     },
     "execution_count": 24,
     "metadata": {},
     "output_type": "execute_result"
    }
   ],
   "source": [
    "# Importancia de cada variable en el árbol ajustado\n",
    "arbol_importancia.feature_importances_"
   ]
  },
  {
   "cell_type": "code",
   "execution_count": 25,
   "metadata": {},
   "outputs": [
    {
     "data": {
      "text/html": [
       "<div>\n",
       "<style scoped>\n",
       "    .dataframe tbody tr th:only-of-type {\n",
       "        vertical-align: middle;\n",
       "    }\n",
       "\n",
       "    .dataframe tbody tr th {\n",
       "        vertical-align: top;\n",
       "    }\n",
       "\n",
       "    .dataframe thead th {\n",
       "        text-align: right;\n",
       "    }\n",
       "</style>\n",
       "<table border=\"1\" class=\"dataframe\">\n",
       "  <thead>\n",
       "    <tr style=\"text-align: right;\">\n",
       "      <th></th>\n",
       "      <th>Importancia</th>\n",
       "    </tr>\n",
       "  </thead>\n",
       "  <tbody>\n",
       "    <tr>\n",
       "      <th>IRRADIATION</th>\n",
       "      <td>0.933103</td>\n",
       "    </tr>\n",
       "    <tr>\n",
       "      <th>AMBIENT_TEMPERATURE</th>\n",
       "      <td>0.066897</td>\n",
       "    </tr>\n",
       "    <tr>\n",
       "      <th>PLANT_ID</th>\n",
       "      <td>0.000000</td>\n",
       "    </tr>\n",
       "  </tbody>\n",
       "</table>\n",
       "</div>"
      ],
      "text/plain": [
       "                     Importancia\n",
       "IRRADIATION             0.933103\n",
       "AMBIENT_TEMPERATURE     0.066897\n",
       "PLANT_ID                0.000000"
      ]
     },
     "execution_count": 25,
     "metadata": {},
     "output_type": "execute_result"
    }
   ],
   "source": [
    "# Crear un dataframe con los datos de importancia\n",
    "importancia = pd.DataFrame(arbol_importancia.feature_importances_, index=features, columns=[\"Importancia\"])\n",
    "\n",
    "# Ordenamos los datos\n",
    "importancia.sort_values(by=importancia.columns[0], ascending=False, inplace=True)\n",
    "importancia"
   ]
  },
  {
   "cell_type": "code",
   "execution_count": 26,
   "metadata": {},
   "outputs": [
    {
     "data": {
      "text/html": [
       "<div>\n",
       "<style scoped>\n",
       "    .dataframe tbody tr th:only-of-type {\n",
       "        vertical-align: middle;\n",
       "    }\n",
       "\n",
       "    .dataframe tbody tr th {\n",
       "        vertical-align: top;\n",
       "    }\n",
       "\n",
       "    .dataframe thead th {\n",
       "        text-align: right;\n",
       "    }\n",
       "</style>\n",
       "<table border=\"1\" class=\"dataframe\">\n",
       "  <thead>\n",
       "    <tr style=\"text-align: right;\">\n",
       "      <th></th>\n",
       "      <th>Importancia</th>\n",
       "      <th>imp_acum</th>\n",
       "    </tr>\n",
       "  </thead>\n",
       "  <tbody>\n",
       "    <tr>\n",
       "      <th>IRRADIATION</th>\n",
       "      <td>0.933103</td>\n",
       "      <td>0.933103</td>\n",
       "    </tr>\n",
       "    <tr>\n",
       "      <th>AMBIENT_TEMPERATURE</th>\n",
       "      <td>0.066897</td>\n",
       "      <td>1.000000</td>\n",
       "    </tr>\n",
       "    <tr>\n",
       "      <th>PLANT_ID</th>\n",
       "      <td>0.000000</td>\n",
       "      <td>1.000000</td>\n",
       "    </tr>\n",
       "  </tbody>\n",
       "</table>\n",
       "</div>"
      ],
      "text/plain": [
       "                     Importancia  imp_acum\n",
       "IRRADIATION             0.933103  0.933103\n",
       "AMBIENT_TEMPERATURE     0.066897  1.000000\n",
       "PLANT_ID                0.000000  1.000000"
      ]
     },
     "execution_count": 26,
     "metadata": {},
     "output_type": "execute_result"
    }
   ],
   "source": [
    "importancia[\"imp_acum\"] = importancia[\"Importancia\"].cumsum()\n",
    "importancia"
   ]
  },
  {
   "cell_type": "code",
   "execution_count": 27,
   "metadata": {},
   "outputs": [
    {
     "data": {
      "text/html": [
       "<div>\n",
       "<style scoped>\n",
       "    .dataframe tbody tr th:only-of-type {\n",
       "        vertical-align: middle;\n",
       "    }\n",
       "\n",
       "    .dataframe tbody tr th {\n",
       "        vertical-align: top;\n",
       "    }\n",
       "\n",
       "    .dataframe thead th {\n",
       "        text-align: right;\n",
       "    }\n",
       "</style>\n",
       "<table border=\"1\" class=\"dataframe\">\n",
       "  <thead>\n",
       "    <tr style=\"text-align: right;\">\n",
       "      <th></th>\n",
       "      <th>Importancia</th>\n",
       "      <th>imp_acum</th>\n",
       "    </tr>\n",
       "  </thead>\n",
       "  <tbody>\n",
       "  </tbody>\n",
       "</table>\n",
       "</div>"
      ],
      "text/plain": [
       "Empty DataFrame\n",
       "Columns: [Importancia, imp_acum]\n",
       "Index: []"
      ]
     },
     "execution_count": 27,
     "metadata": {},
     "output_type": "execute_result"
    }
   ],
   "source": [
    "# Conjunto de variables más importantes\n",
    "importancia.loc[importancia['imp_acum']<=0.90]"
   ]
  },
  {
   "cell_type": "code",
   "execution_count": 28,
   "metadata": {},
   "outputs": [
    {
     "name": "stdout",
     "output_type": "stream",
     "text": [
      "['IRRADIATION', 'AMBIENT_TEMPERATURE', 'PLANT_ID']\n"
     ]
    }
   ],
   "source": [
    "variables = importancia.loc[importancia['imp_acum']>0.90].index.to_list()\n",
    "print(variables)"
   ]
  },
  {
   "attachments": {},
   "cell_type": "markdown",
   "metadata": {},
   "source": [
    "Todas las variables tienen importancia, no eliminamos ninguna."
   ]
  },
  {
   "attachments": {},
   "cell_type": "markdown",
   "metadata": {},
   "source": [
    "### Planteamiento del ejercicio de clasificación"
   ]
  },
  {
   "attachments": {},
   "cell_type": "markdown",
   "metadata": {},
   "source": [
    "# Hacemos una copia del tablón filtrado para no trabajar sobre original\n"
   ]
  },
  {
   "cell_type": "code",
   "execution_count": 29,
   "metadata": {},
   "outputs": [],
   "source": [
    "# Hacemos una copia del tablón filtrado para no trabajar sobre original\n",
    "df_solpl = df_solar_filt2.copy()"
   ]
  },
  {
   "cell_type": "code",
   "execution_count": 30,
   "metadata": {},
   "outputs": [
    {
     "data": {
      "text/html": [
       "<div>\n",
       "<style scoped>\n",
       "    .dataframe tbody tr th:only-of-type {\n",
       "        vertical-align: middle;\n",
       "    }\n",
       "\n",
       "    .dataframe tbody tr th {\n",
       "        vertical-align: top;\n",
       "    }\n",
       "\n",
       "    .dataframe thead th {\n",
       "        text-align: right;\n",
       "    }\n",
       "</style>\n",
       "<table border=\"1\" class=\"dataframe\">\n",
       "  <thead>\n",
       "    <tr style=\"text-align: right;\">\n",
       "      <th></th>\n",
       "      <th>PLANT_ID</th>\n",
       "      <th>AMBIENT_TEMPERATURE</th>\n",
       "      <th>IRRADIATION</th>\n",
       "      <th>escenario</th>\n",
       "    </tr>\n",
       "  </thead>\n",
       "  <tbody>\n",
       "    <tr>\n",
       "      <th>0</th>\n",
       "      <td>4135001</td>\n",
       "      <td>25.184316</td>\n",
       "      <td>0.0</td>\n",
       "      <td>frio</td>\n",
       "    </tr>\n",
       "    <tr>\n",
       "      <th>1</th>\n",
       "      <td>4135001</td>\n",
       "      <td>25.084589</td>\n",
       "      <td>0.0</td>\n",
       "      <td>frio</td>\n",
       "    </tr>\n",
       "    <tr>\n",
       "      <th>2</th>\n",
       "      <td>4135001</td>\n",
       "      <td>24.935753</td>\n",
       "      <td>0.0</td>\n",
       "      <td>frio</td>\n",
       "    </tr>\n",
       "    <tr>\n",
       "      <th>3</th>\n",
       "      <td>4135001</td>\n",
       "      <td>24.846130</td>\n",
       "      <td>0.0</td>\n",
       "      <td>frio</td>\n",
       "    </tr>\n",
       "    <tr>\n",
       "      <th>4</th>\n",
       "      <td>4135001</td>\n",
       "      <td>24.621525</td>\n",
       "      <td>0.0</td>\n",
       "      <td>frio</td>\n",
       "    </tr>\n",
       "    <tr>\n",
       "      <th>...</th>\n",
       "      <td>...</td>\n",
       "      <td>...</td>\n",
       "      <td>...</td>\n",
       "      <td>...</td>\n",
       "    </tr>\n",
       "    <tr>\n",
       "      <th>3177</th>\n",
       "      <td>4135001</td>\n",
       "      <td>22.150570</td>\n",
       "      <td>0.0</td>\n",
       "      <td>frio</td>\n",
       "    </tr>\n",
       "    <tr>\n",
       "      <th>3178</th>\n",
       "      <td>4135001</td>\n",
       "      <td>22.129816</td>\n",
       "      <td>0.0</td>\n",
       "      <td>frio</td>\n",
       "    </tr>\n",
       "    <tr>\n",
       "      <th>3179</th>\n",
       "      <td>4135001</td>\n",
       "      <td>22.008275</td>\n",
       "      <td>0.0</td>\n",
       "      <td>frio</td>\n",
       "    </tr>\n",
       "    <tr>\n",
       "      <th>3180</th>\n",
       "      <td>4135001</td>\n",
       "      <td>21.969495</td>\n",
       "      <td>0.0</td>\n",
       "      <td>frio</td>\n",
       "    </tr>\n",
       "    <tr>\n",
       "      <th>3181</th>\n",
       "      <td>4135001</td>\n",
       "      <td>21.909288</td>\n",
       "      <td>0.0</td>\n",
       "      <td>frio</td>\n",
       "    </tr>\n",
       "  </tbody>\n",
       "</table>\n",
       "<p>3182 rows × 4 columns</p>\n",
       "</div>"
      ],
      "text/plain": [
       "      PLANT_ID  AMBIENT_TEMPERATURE  IRRADIATION escenario\n",
       "0      4135001            25.184316          0.0      frio\n",
       "1      4135001            25.084589          0.0      frio\n",
       "2      4135001            24.935753          0.0      frio\n",
       "3      4135001            24.846130          0.0      frio\n",
       "4      4135001            24.621525          0.0      frio\n",
       "...        ...                  ...          ...       ...\n",
       "3177   4135001            22.150570          0.0      frio\n",
       "3178   4135001            22.129816          0.0      frio\n",
       "3179   4135001            22.008275          0.0      frio\n",
       "3180   4135001            21.969495          0.0      frio\n",
       "3181   4135001            21.909288          0.0      frio\n",
       "\n",
       "[3182 rows x 4 columns]"
      ]
     },
     "execution_count": 30,
     "metadata": {},
     "output_type": "execute_result"
    }
   ],
   "source": [
    "#Crearemos ahora una nueva columna llamada escenario\n",
    "df_solpl[\"escenario\"] = np.where(df_solpl[\"MODULE_TEMPERATURE\"]<df_solpl[\"MODULE_TEMPERATURE\"].mean(),\"frio\",\"calor\")\n",
    "df_solpl.drop([\"MODULE_TEMPERATURE\"],axis=1,inplace=True)\n",
    "df_solpl"
   ]
  },
  {
   "cell_type": "code",
   "execution_count": 31,
   "metadata": {},
   "outputs": [
    {
     "data": {
      "text/html": [
       "<div>\n",
       "<style scoped>\n",
       "    .dataframe tbody tr th:only-of-type {\n",
       "        vertical-align: middle;\n",
       "    }\n",
       "\n",
       "    .dataframe tbody tr th {\n",
       "        vertical-align: top;\n",
       "    }\n",
       "\n",
       "    .dataframe thead th {\n",
       "        text-align: right;\n",
       "    }\n",
       "</style>\n",
       "<table border=\"1\" class=\"dataframe\">\n",
       "  <thead>\n",
       "    <tr style=\"text-align: right;\">\n",
       "      <th></th>\n",
       "      <th>PLANT_ID</th>\n",
       "      <th>AMBIENT_TEMPERATURE</th>\n",
       "      <th>IRRADIATION</th>\n",
       "    </tr>\n",
       "  </thead>\n",
       "  <tbody>\n",
       "    <tr>\n",
       "      <th>count</th>\n",
       "      <td>3182.0</td>\n",
       "      <td>3182.000000</td>\n",
       "      <td>3182.000000</td>\n",
       "    </tr>\n",
       "    <tr>\n",
       "      <th>mean</th>\n",
       "      <td>4135001.0</td>\n",
       "      <td>25.531606</td>\n",
       "      <td>0.228313</td>\n",
       "    </tr>\n",
       "    <tr>\n",
       "      <th>std</th>\n",
       "      <td>0.0</td>\n",
       "      <td>3.354856</td>\n",
       "      <td>0.300836</td>\n",
       "    </tr>\n",
       "    <tr>\n",
       "      <th>min</th>\n",
       "      <td>4135001.0</td>\n",
       "      <td>20.398505</td>\n",
       "      <td>0.000000</td>\n",
       "    </tr>\n",
       "    <tr>\n",
       "      <th>25%</th>\n",
       "      <td>4135001.0</td>\n",
       "      <td>22.705182</td>\n",
       "      <td>0.000000</td>\n",
       "    </tr>\n",
       "    <tr>\n",
       "      <th>50%</th>\n",
       "      <td>4135001.0</td>\n",
       "      <td>24.613814</td>\n",
       "      <td>0.024653</td>\n",
       "    </tr>\n",
       "    <tr>\n",
       "      <th>75%</th>\n",
       "      <td>4135001.0</td>\n",
       "      <td>27.920532</td>\n",
       "      <td>0.449588</td>\n",
       "    </tr>\n",
       "    <tr>\n",
       "      <th>max</th>\n",
       "      <td>4135001.0</td>\n",
       "      <td>35.252486</td>\n",
       "      <td>1.221652</td>\n",
       "    </tr>\n",
       "  </tbody>\n",
       "</table>\n",
       "</div>"
      ],
      "text/plain": [
       "        PLANT_ID  AMBIENT_TEMPERATURE  IRRADIATION\n",
       "count     3182.0          3182.000000  3182.000000\n",
       "mean   4135001.0            25.531606     0.228313\n",
       "std          0.0             3.354856     0.300836\n",
       "min    4135001.0            20.398505     0.000000\n",
       "25%    4135001.0            22.705182     0.000000\n",
       "50%    4135001.0            24.613814     0.024653\n",
       "75%    4135001.0            27.920532     0.449588\n",
       "max    4135001.0            35.252486     1.221652"
      ]
     },
     "execution_count": 31,
     "metadata": {},
     "output_type": "execute_result"
    }
   ],
   "source": [
    "df_solpl.describe()"
   ]
  },
  {
   "cell_type": "code",
   "execution_count": 32,
   "metadata": {},
   "outputs": [
    {
     "data": {
      "image/png": "[encoded data removed]",
      "text/plain": [
       "<Figure size 1000x500 with 1 Axes>"
      ]
     },
     "metadata": {},
     "output_type": "display_data"
    }
   ],
   "source": [
    "#graficar primer escenario\n",
    "plt.figure(figsize=(10,5))\n",
    "sns.violinplot(data=df_solpl, orient=\"h\")\n",
    "plt.show()"
   ]
  },
  {
   "attachments": {},
   "cell_type": "markdown",
   "metadata": {},
   "source": [
    "### **Paso 1.**  Obtención y preparación de datos"
   ]
  },
  {
   "cell_type": "code",
   "execution_count": 33,
   "metadata": {},
   "outputs": [],
   "source": [
    "# preparar los datos del modelo\n",
    "# Variables independientes\n",
    "X = df_solpl.drop([\"escenario\"],axis= 'columns')\n",
    "# Variable dependiente\n",
    "y = df_solpl[\"escenario\"]"
   ]
  },
  {
   "cell_type": "code",
   "execution_count": 34,
   "metadata": {},
   "outputs": [
    {
     "data": {
      "text/plain": [
       "array([[ 0.        , -0.10353476, -0.75904624],\n",
       "       [ 0.        , -0.13326574, -0.75904624],\n",
       "       [ 0.        , -0.17763708, -0.75904624],\n",
       "       ...,\n",
       "       [ 0.        , -1.05038344, -0.75904624],\n",
       "       [ 0.        , -1.0619446 , -0.75904624],\n",
       "       [ 0.        , -1.07989366, -0.75904624]])"
      ]
     },
     "execution_count": 34,
     "metadata": {},
     "output_type": "execute_result"
    }
   ],
   "source": [
    "# importamos libreria sklear\n",
    "from sklearn.preprocessing import StandardScaler\n",
    "# tipo de escalamiento y su ajuste\n",
    "escalado = StandardScaler().fit(X)\n",
    "dataset_normal = escalado.transform(X)\n",
    "dataset_normal"
   ]
  },
  {
   "cell_type": "code",
   "execution_count": 35,
   "metadata": {},
   "outputs": [
    {
     "name": "stdout",
     "output_type": "stream",
     "text": [
      "<class 'pandas.core.frame.DataFrame'>\n"
     ]
    },
    {
     "data": {
      "text/html": [
       "<div>\n",
       "<style scoped>\n",
       "    .dataframe tbody tr th:only-of-type {\n",
       "        vertical-align: middle;\n",
       "    }\n",
       "\n",
       "    .dataframe tbody tr th {\n",
       "        vertical-align: top;\n",
       "    }\n",
       "\n",
       "    .dataframe thead th {\n",
       "        text-align: right;\n",
       "    }\n",
       "</style>\n",
       "<table border=\"1\" class=\"dataframe\">\n",
       "  <thead>\n",
       "    <tr style=\"text-align: right;\">\n",
       "      <th></th>\n",
       "      <th>PLANT_ID</th>\n",
       "      <th>AMBIENT_TEMPERATURE</th>\n",
       "      <th>IRRADIATION</th>\n",
       "    </tr>\n",
       "  </thead>\n",
       "  <tbody>\n",
       "    <tr>\n",
       "      <th>0</th>\n",
       "      <td>0.0</td>\n",
       "      <td>-0.103535</td>\n",
       "      <td>-0.759046</td>\n",
       "    </tr>\n",
       "    <tr>\n",
       "      <th>1</th>\n",
       "      <td>0.0</td>\n",
       "      <td>-0.133266</td>\n",
       "      <td>-0.759046</td>\n",
       "    </tr>\n",
       "    <tr>\n",
       "      <th>2</th>\n",
       "      <td>0.0</td>\n",
       "      <td>-0.177637</td>\n",
       "      <td>-0.759046</td>\n",
       "    </tr>\n",
       "    <tr>\n",
       "      <th>3</th>\n",
       "      <td>0.0</td>\n",
       "      <td>-0.204355</td>\n",
       "      <td>-0.759046</td>\n",
       "    </tr>\n",
       "    <tr>\n",
       "      <th>4</th>\n",
       "      <td>0.0</td>\n",
       "      <td>-0.271315</td>\n",
       "      <td>-0.759046</td>\n",
       "    </tr>\n",
       "    <tr>\n",
       "      <th>...</th>\n",
       "      <td>...</td>\n",
       "      <td>...</td>\n",
       "      <td>...</td>\n",
       "    </tr>\n",
       "    <tr>\n",
       "      <th>3177</th>\n",
       "      <td>0.0</td>\n",
       "      <td>-1.007962</td>\n",
       "      <td>-0.759046</td>\n",
       "    </tr>\n",
       "    <tr>\n",
       "      <th>3178</th>\n",
       "      <td>0.0</td>\n",
       "      <td>-1.014149</td>\n",
       "      <td>-0.759046</td>\n",
       "    </tr>\n",
       "    <tr>\n",
       "      <th>3179</th>\n",
       "      <td>0.0</td>\n",
       "      <td>-1.050383</td>\n",
       "      <td>-0.759046</td>\n",
       "    </tr>\n",
       "    <tr>\n",
       "      <th>3180</th>\n",
       "      <td>0.0</td>\n",
       "      <td>-1.061945</td>\n",
       "      <td>-0.759046</td>\n",
       "    </tr>\n",
       "    <tr>\n",
       "      <th>3181</th>\n",
       "      <td>0.0</td>\n",
       "      <td>-1.079894</td>\n",
       "      <td>-0.759046</td>\n",
       "    </tr>\n",
       "  </tbody>\n",
       "</table>\n",
       "<p>3182 rows × 3 columns</p>\n",
       "</div>"
      ],
      "text/plain": [
       "      PLANT_ID  AMBIENT_TEMPERATURE  IRRADIATION\n",
       "0          0.0            -0.103535    -0.759046\n",
       "1          0.0            -0.133266    -0.759046\n",
       "2          0.0            -0.177637    -0.759046\n",
       "3          0.0            -0.204355    -0.759046\n",
       "4          0.0            -0.271315    -0.759046\n",
       "...        ...                  ...          ...\n",
       "3177       0.0            -1.007962    -0.759046\n",
       "3178       0.0            -1.014149    -0.759046\n",
       "3179       0.0            -1.050383    -0.759046\n",
       "3180       0.0            -1.061945    -0.759046\n",
       "3181       0.0            -1.079894    -0.759046\n",
       "\n",
       "[3182 rows x 3 columns]"
      ]
     },
     "execution_count": 35,
     "metadata": {},
     "output_type": "execute_result"
    }
   ],
   "source": [
    "# Lo convertimos en un DataFrame, añadiendole sus etiquetas\n",
    "X_normal = pd.DataFrame(dataset_normal, columns=X.columns)\n",
    "print(type(X_normal))\n",
    "X_normal"
   ]
  },
  {
   "cell_type": "code",
   "execution_count": 36,
   "metadata": {},
   "outputs": [
    {
     "data": {
      "text/html": [
       "<div>\n",
       "<style scoped>\n",
       "    .dataframe tbody tr th:only-of-type {\n",
       "        vertical-align: middle;\n",
       "    }\n",
       "\n",
       "    .dataframe tbody tr th {\n",
       "        vertical-align: top;\n",
       "    }\n",
       "\n",
       "    .dataframe thead th {\n",
       "        text-align: right;\n",
       "    }\n",
       "</style>\n",
       "<table border=\"1\" class=\"dataframe\">\n",
       "  <thead>\n",
       "    <tr style=\"text-align: right;\">\n",
       "      <th></th>\n",
       "      <th>PLANT_ID</th>\n",
       "      <th>AMBIENT_TEMPERATURE</th>\n",
       "      <th>IRRADIATION</th>\n",
       "    </tr>\n",
       "  </thead>\n",
       "  <tbody>\n",
       "    <tr>\n",
       "      <th>count</th>\n",
       "      <td>3182.0</td>\n",
       "      <td>3182.0000</td>\n",
       "      <td>3182.0000</td>\n",
       "    </tr>\n",
       "    <tr>\n",
       "      <th>mean</th>\n",
       "      <td>0.0</td>\n",
       "      <td>-0.0000</td>\n",
       "      <td>-0.0000</td>\n",
       "    </tr>\n",
       "    <tr>\n",
       "      <th>std</th>\n",
       "      <td>0.0</td>\n",
       "      <td>1.0002</td>\n",
       "      <td>1.0002</td>\n",
       "    </tr>\n",
       "    <tr>\n",
       "      <th>min</th>\n",
       "      <td>0.0</td>\n",
       "      <td>-1.5303</td>\n",
       "      <td>-0.7590</td>\n",
       "    </tr>\n",
       "    <tr>\n",
       "      <th>25%</th>\n",
       "      <td>0.0</td>\n",
       "      <td>-0.8426</td>\n",
       "      <td>-0.7590</td>\n",
       "    </tr>\n",
       "    <tr>\n",
       "      <th>50%</th>\n",
       "      <td>0.0</td>\n",
       "      <td>-0.2736</td>\n",
       "      <td>-0.6771</td>\n",
       "    </tr>\n",
       "    <tr>\n",
       "      <th>75%</th>\n",
       "      <td>0.0</td>\n",
       "      <td>0.7122</td>\n",
       "      <td>0.7357</td>\n",
       "    </tr>\n",
       "    <tr>\n",
       "      <th>max</th>\n",
       "      <td>0.0</td>\n",
       "      <td>2.8980</td>\n",
       "      <td>3.3024</td>\n",
       "    </tr>\n",
       "  </tbody>\n",
       "</table>\n",
       "</div>"
      ],
      "text/plain": [
       "       PLANT_ID  AMBIENT_TEMPERATURE  IRRADIATION\n",
       "count    3182.0            3182.0000    3182.0000\n",
       "mean        0.0              -0.0000      -0.0000\n",
       "std         0.0               1.0002       1.0002\n",
       "min         0.0              -1.5303      -0.7590\n",
       "25%         0.0              -0.8426      -0.7590\n",
       "50%         0.0              -0.2736      -0.6771\n",
       "75%         0.0               0.7122       0.7357\n",
       "max         0.0               2.8980       3.3024"
      ]
     },
     "execution_count": 36,
     "metadata": {},
     "output_type": "execute_result"
    }
   ],
   "source": [
    "X_normal.describe().round(4)"
   ]
  },
  {
   "cell_type": "code",
   "execution_count": 37,
   "metadata": {},
   "outputs": [
    {
     "data": {
      "image/png": "[encoded data removed]",
      "text/plain": [
       "<Figure size 1000x500 with 1 Axes>"
      ]
     },
     "metadata": {},
     "output_type": "display_data"
    }
   ],
   "source": [
    "# Graficar la distribución de los valores estandarizados\n",
    "plt.figure(figsize=(10,5))\n",
    "sns.violinplot(data=X_normal, orient=\"h\")\n",
    "plt.show()"
   ]
  },
  {
   "attachments": {},
   "cell_type": "markdown",
   "metadata": {},
   "source": [
    "### **Paso 2.**  Dividir el dataset en Training y Test"
   ]
  },
  {
   "cell_type": "code",
   "execution_count": 38,
   "metadata": {},
   "outputs": [],
   "source": [
    "# Separar los conjuntos de datos de entrenamiento (Training) y de prueba (Test) para las variables de entrada y salida\n",
    "from sklearn.model_selection import train_test_split\n",
    "X_train, X_test, y_train, y_test = train_test_split(X_normal, y, test_size=0.2, random_state=42)\n"
   ]
  },
  {
   "cell_type": "code",
   "execution_count": 39,
   "metadata": {},
   "outputs": [
    {
     "name": "stdout",
     "output_type": "stream",
     "text": [
      "2545\n",
      "637\n"
     ]
    },
    {
     "data": {
      "text/plain": [
       "3182"
      ]
     },
     "execution_count": 39,
     "metadata": {},
     "output_type": "execute_result"
    }
   ],
   "source": [
    "# \"test_size\" representa la proporción del conjunto de datos a incluir en la división de Test\n",
    "print(X_train.shape[0])\n",
    "print(X_test.shape[0])\n",
    "X_train.shape[0] + X_test.shape[0]"
   ]
  },
  {
   "attachments": {},
   "cell_type": "markdown",
   "metadata": {},
   "source": [
    "### **Paso 3.** Cargar y elegir el modelo de regresión logística"
   ]
  },
  {
   "cell_type": "code",
   "execution_count": 40,
   "metadata": {},
   "outputs": [],
   "source": [
    "# Importar el módulo que corresponde al algoritmo\n",
    "from sklearn.linear_model import LogisticRegression\n",
    "\n",
    "# Asignar el algoritmo que vamos a aplicar \n",
    "log_r = LogisticRegression(max_iter= 1000, random_state=42)"
   ]
  },
  {
   "attachments": {},
   "cell_type": "markdown",
   "metadata": {},
   "source": [
    "### **Paso 4.** Entrenar el modelo de regresión logística con los datos de entrenamiento"
   ]
  },
  {
   "cell_type": "code",
   "execution_count": 41,
   "metadata": {},
   "outputs": [
    {
     "data": {
      "text/html": [
       "<style>#sk-container-id-2 {color: black;background-color: white;}#sk-container-id-2 pre{padding: 0;}#sk-container-id-2 div.sk-toggleable {background-color: white;}#sk-container-id-2 label.sk-toggleable__label {cursor: pointer;display: block;width: 100%;margin-bottom: 0;padding: 0.3em;box-sizing: border-box;text-align: center;}#sk-container-id-2 label.sk-toggleable__label-arrow:before {content: \"▸\";float: left;margin-right: 0.25em;color: #696969;}#sk-container-id-2 label.sk-toggleable__label-arrow:hover:before {color: black;}#sk-container-id-2 div.sk-estimator:hover label.sk-toggleable__label-arrow:before {color: black;}#sk-container-id-2 div.sk-toggleable__content {max-height: 0;max-width: 0;overflow: hidden;text-align: left;background-color: #f0f8ff;}#sk-container-id-2 div.sk-toggleable__content pre {margin: 0.2em;color: black;border-radius: 0.25em;background-color: #f0f8ff;}#sk-container-id-2 input.sk-toggleable__control:checked~div.sk-toggleable__content {max-height: 200px;max-width: 100%;overflow: auto;}#sk-container-id-2 input.sk-toggleable__control:checked~label.sk-toggleable__label-arrow:before {content: \"▾\";}#sk-container-id-2 div.sk-estimator input.sk-toggleable__control:checked~label.sk-toggleable__label {background-color: #d4ebff;}#sk-container-id-2 div.sk-label input.sk-toggleable__control:checked~label.sk-toggleable__label {background-color: #d4ebff;}#sk-container-id-2 input.sk-hidden--visually {border: 0;clip: rect(1px 1px 1px 1px);clip: rect(1px, 1px, 1px, 1px);height: 1px;margin: -1px;overflow: hidden;padding: 0;position: absolute;width: 1px;}#sk-container-id-2 div.sk-estimator {font-family: monospace;background-color: #f0f8ff;border: 1px dotted black;border-radius: 0.25em;box-sizing: border-box;margin-bottom: 0.5em;}#sk-container-id-2 div.sk-estimator:hover {background-color: #d4ebff;}#sk-container-id-2 div.sk-parallel-item::after {content: \"\";width: 100%;border-bottom: 1px solid gray;flex-grow: 1;}#sk-container-id-2 div.sk-label:hover label.sk-toggleable__label {background-color: #d4ebff;}#sk-container-id-2 div.sk-serial::before {content: \"\";position: absolute;border-left: 1px solid gray;box-sizing: border-box;top: 0;bottom: 0;left: 50%;z-index: 0;}#sk-container-id-2 div.sk-serial {display: flex;flex-direction: column;align-items: center;background-color: white;padding-right: 0.2em;padding-left: 0.2em;position: relative;}#sk-container-id-2 div.sk-item {position: relative;z-index: 1;}#sk-container-id-2 div.sk-parallel {display: flex;align-items: stretch;justify-content: center;background-color: white;position: relative;}#sk-container-id-2 div.sk-item::before, #sk-container-id-2 div.sk-parallel-item::before {content: \"\";position: absolute;border-left: 1px solid gray;box-sizing: border-box;top: 0;bottom: 0;left: 50%;z-index: -1;}#sk-container-id-2 div.sk-parallel-item {display: flex;flex-direction: column;z-index: 1;position: relative;background-color: white;}#sk-container-id-2 div.sk-parallel-item:first-child::after {align-self: flex-end;width: 50%;}#sk-container-id-2 div.sk-parallel-item:last-child::after {align-self: flex-start;width: 50%;}#sk-container-id-2 div.sk-parallel-item:only-child::after {width: 0;}#sk-container-id-2 div.sk-dashed-wrapped {border: 1px dashed gray;margin: 0 0.4em 0.5em 0.4em;box-sizing: border-box;padding-bottom: 0.4em;background-color: white;}#sk-container-id-2 div.sk-label label {font-family: monospace;font-weight: bold;display: inline-block;line-height: 1.2em;}#sk-container-id-2 div.sk-label-container {text-align: center;}#sk-container-id-2 div.sk-container {/* jupyter's `normalize.less` sets `[hidden] { display: none; }` but bootstrap.min.css set `[hidden] { display: none !important; }` so we also need the `!important` here to be able to override the default hidden behavior on the sphinx rendered scikit-learn.org. See: https://github.com/scikit-learn/scikit-learn/issues/21755 */display: inline-block !important;position: relative;}#sk-container-id-2 div.sk-text-repr-fallback {display: none;}</style><div id=\"sk-container-id-2\" class=\"sk-top-container\"><div class=\"sk-text-repr-fallback\"><pre>LogisticRegression(max_iter=1000, random_state=42)</pre><b>In a Jupyter environment, please rerun this cell to show the HTML representation or trust the notebook. <br />On GitHub, the HTML representation is unable to render, please try loading this page with nbviewer.org.</b></div><div class=\"sk-container\" hidden><div class=\"sk-item\"><div class=\"sk-estimator sk-toggleable\"><input class=\"sk-toggleable__control sk-hidden--visually\" id=\"sk-estimator-id-2\" type=\"checkbox\" checked><label for=\"sk-estimator-id-2\" class=\"sk-toggleable__label sk-toggleable__label-arrow\">LogisticRegression</label><div class=\"sk-toggleable__content\"><pre>LogisticRegression(max_iter=1000, random_state=42)</pre></div></div></div></div></div>"
      ],
      "text/plain": [
       "LogisticRegression(max_iter=1000, random_state=42)"
      ]
     },
     "execution_count": 41,
     "metadata": {},
     "output_type": "execute_result"
    }
   ],
   "source": [
    "# Entrenar el modelo\n",
    "log_r.fit(X_train, y_train)"
   ]
  },
  {
   "attachments": {},
   "cell_type": "markdown",
   "metadata": {},
   "source": [
    "### **Paso 5.** Obtener las predicciones "
   ]
  },
  {
   "cell_type": "code",
   "execution_count": 42,
   "metadata": {},
   "outputs": [],
   "source": [
    "# Calcular las predicciones con el conjunto de prueba\n",
    "y_pred = log_r.predict(X_test)"
   ]
  },
  {
   "cell_type": "code",
   "execution_count": 43,
   "metadata": {},
   "outputs": [
    {
     "name": "stdout",
     "output_type": "stream",
     "text": [
      "['calor' 'calor' 'frio' 'calor' 'frio' 'frio' 'frio' 'calor' 'calor'\n",
      " 'calor' 'frio' 'frio' 'frio' 'frio' 'frio' 'frio' 'frio' 'frio' 'frio'\n",
      " 'calor' 'frio' 'frio' 'frio' 'frio' 'frio' 'calor' 'frio' 'frio' 'calor'\n",
      " 'calor' 'frio' 'frio' 'calor' 'calor' 'calor' 'calor' 'calor' 'frio'\n",
      " 'frio' 'frio' 'calor' 'frio' 'frio' 'calor' 'frio' 'frio' 'frio' 'frio'\n",
      " 'calor' 'frio' 'frio' 'frio' 'frio' 'frio' 'frio' 'frio' 'frio' 'calor'\n",
      " 'calor' 'frio' 'frio' 'calor' 'calor' 'frio' 'frio' 'calor' 'calor'\n",
      " 'calor' 'frio' 'frio' 'frio' 'frio' 'calor' 'frio' 'frio' 'frio' 'frio'\n",
      " 'calor' 'frio' 'frio' 'frio' 'calor' 'calor' 'frio' 'frio' 'calor'\n",
      " 'calor' 'frio' 'frio' 'frio' 'calor' 'calor' 'frio' 'frio' 'frio' 'calor'\n",
      " 'calor' 'calor' 'frio' 'calor' 'frio' 'frio' 'frio' 'calor' 'frio' 'frio'\n",
      " 'calor' 'frio' 'frio' 'frio' 'frio' 'frio' 'calor' 'calor' 'calor'\n",
      " 'calor' 'frio' 'calor' 'frio' 'calor' 'frio' 'frio' 'calor' 'calor'\n",
      " 'calor' 'frio' 'frio' 'frio' 'frio' 'frio' 'calor' 'frio' 'calor' 'frio'\n",
      " 'calor' 'calor' 'frio' 'calor' 'calor' 'frio' 'calor' 'calor' 'calor'\n",
      " 'frio' 'calor' 'frio' 'frio' 'frio' 'calor' 'calor' 'calor' 'calor'\n",
      " 'calor' 'frio' 'calor' 'calor' 'calor' 'calor' 'frio' 'frio' 'frio'\n",
      " 'calor' 'frio' 'calor' 'frio' 'calor' 'frio' 'frio' 'frio' 'calor' 'frio'\n",
      " 'frio' 'calor' 'calor' 'calor' 'calor' 'frio' 'calor' 'frio' 'frio'\n",
      " 'calor' 'calor' 'calor' 'frio' 'frio' 'frio' 'frio' 'calor' 'calor'\n",
      " 'calor' 'calor' 'calor' 'frio' 'frio' 'frio' 'frio' 'frio' 'calor' 'frio'\n",
      " 'calor' 'calor' 'calor' 'frio' 'frio' 'frio' 'frio' 'frio' 'calor' 'frio'\n",
      " 'frio' 'calor' 'frio' 'frio' 'frio' 'frio' 'frio' 'calor' 'calor' 'calor'\n",
      " 'frio' 'calor' 'frio' 'frio' 'calor' 'calor' 'frio' 'frio' 'calor' 'frio'\n",
      " 'calor' 'frio' 'calor' 'calor' 'calor' 'calor' 'frio' 'frio' 'calor'\n",
      " 'calor' 'frio' 'calor' 'frio' 'frio' 'calor' 'frio' 'frio' 'frio' 'frio'\n",
      " 'frio' 'frio' 'calor' 'frio' 'calor' 'calor' 'frio' 'frio' 'calor' 'frio'\n",
      " 'calor' 'calor' 'frio' 'frio' 'calor' 'frio' 'frio' 'frio' 'frio' 'frio'\n",
      " 'frio' 'frio' 'frio' 'frio' 'calor' 'frio' 'calor' 'frio' 'frio' 'frio'\n",
      " 'calor' 'frio' 'calor' 'frio' 'frio' 'calor' 'calor' 'frio' 'frio' 'frio'\n",
      " 'calor' 'frio' 'calor' 'frio' 'calor' 'frio' 'frio' 'frio' 'frio' 'frio'\n",
      " 'frio' 'calor' 'frio' 'calor' 'frio' 'calor' 'frio' 'frio' 'frio' 'frio'\n",
      " 'frio' 'calor' 'frio' 'frio' 'calor' 'frio' 'frio' 'frio' 'calor' 'frio'\n",
      " 'frio' 'frio' 'frio' 'frio' 'calor' 'calor' 'frio' 'frio' 'frio' 'calor'\n",
      " 'frio' 'calor' 'calor' 'frio' 'frio' 'frio' 'calor' 'calor' 'calor'\n",
      " 'frio' 'frio' 'frio' 'calor' 'frio' 'calor' 'calor' 'frio' 'calor'\n",
      " 'calor' 'calor' 'frio' 'frio' 'frio' 'frio' 'frio' 'calor' 'frio' 'frio'\n",
      " 'frio' 'calor' 'calor' 'calor' 'frio' 'frio' 'calor' 'frio' 'frio'\n",
      " 'calor' 'calor' 'calor' 'frio' 'frio' 'frio' 'calor' 'frio' 'calor'\n",
      " 'frio' 'calor' 'frio' 'frio' 'calor' 'frio' 'frio' 'calor' 'calor' 'frio'\n",
      " 'calor' 'frio' 'frio' 'frio' 'frio' 'frio' 'frio' 'frio' 'frio' 'calor'\n",
      " 'frio' 'calor' 'frio' 'calor' 'calor' 'frio' 'calor' 'frio' 'frio' 'frio'\n",
      " 'frio' 'calor' 'frio' 'calor' 'calor' 'frio' 'frio' 'frio' 'calor'\n",
      " 'calor' 'calor' 'frio' 'frio' 'frio' 'frio' 'calor' 'calor' 'frio'\n",
      " 'calor' 'calor' 'frio' 'calor' 'frio' 'frio' 'calor' 'frio' 'frio' 'frio'\n",
      " 'frio' 'frio' 'frio' 'calor' 'calor' 'frio' 'frio' 'frio' 'frio' 'frio'\n",
      " 'frio' 'frio' 'calor' 'frio' 'frio' 'frio' 'calor' 'frio' 'frio' 'frio'\n",
      " 'frio' 'calor' 'frio' 'calor' 'calor' 'frio' 'frio' 'frio' 'frio' 'frio'\n",
      " 'calor' 'calor' 'calor' 'frio' 'calor' 'frio' 'calor' 'calor' 'frio'\n",
      " 'frio' 'frio' 'calor' 'frio' 'calor' 'frio' 'frio' 'frio' 'calor' 'frio'\n",
      " 'frio' 'frio' 'frio' 'frio' 'frio' 'calor' 'calor' 'frio' 'frio' 'frio'\n",
      " 'calor' 'calor' 'frio' 'calor' 'frio' 'frio' 'frio' 'calor' 'frio' 'frio'\n",
      " 'frio' 'frio' 'frio' 'calor' 'calor' 'calor' 'calor' 'frio' 'calor'\n",
      " 'frio' 'frio' 'frio' 'frio' 'frio' 'calor' 'frio' 'frio' 'frio' 'calor'\n",
      " 'calor' 'frio' 'calor' 'frio' 'frio' 'calor' 'frio' 'frio' 'frio' 'frio'\n",
      " 'calor' 'frio' 'frio' 'frio' 'frio' 'calor' 'calor' 'frio' 'frio' 'frio'\n",
      " 'frio' 'calor' 'calor' 'frio' 'frio' 'frio' 'frio' 'frio' 'frio' 'calor'\n",
      " 'calor' 'frio' 'calor' 'frio' 'frio' 'frio' 'frio' 'calor' 'frio' 'frio'\n",
      " 'frio' 'calor' 'calor' 'calor' 'frio' 'frio' 'frio' 'frio' 'frio' 'frio'\n",
      " 'calor' 'frio' 'calor' 'frio' 'frio' 'frio' 'frio' 'frio' 'calor' 'frio'\n",
      " 'frio' 'calor' 'calor' 'calor' 'frio' 'calor' 'calor' 'frio' 'calor'\n",
      " 'frio' 'calor' 'frio' 'frio' 'frio' 'calor' 'calor' 'frio' 'calor' 'frio'\n",
      " 'frio' 'frio' 'frio' 'frio' 'frio' 'frio' 'frio' 'frio' 'frio' 'calor'\n",
      " 'frio' 'calor' 'frio' 'frio' 'frio' 'frio' 'frio' 'calor' 'frio' 'calor'\n",
      " 'frio' 'frio' 'frio' 'frio' 'calor' 'frio' 'frio' 'calor' 'frio' 'frio'\n",
      " 'calor' 'frio' 'calor' 'frio' 'frio' 'frio' 'calor' 'frio']\n"
     ]
    }
   ],
   "source": [
    "# Imprimir la salida del modelo (los niveles de calidad del aire)\n",
    "print(y_pred)"
   ]
  },
  {
   "attachments": {},
   "cell_type": "markdown",
   "metadata": {},
   "source": [
    "### **Paso 6.** Evaluación del modelo a través de sus métricas"
   ]
  },
  {
   "cell_type": "code",
   "execution_count": 44,
   "metadata": {},
   "outputs": [
    {
     "data": {
      "text/plain": [
       "0.9874411302982732"
      ]
     },
     "execution_count": 44,
     "metadata": {},
     "output_type": "execute_result"
    }
   ],
   "source": [
    "from sklearn.metrics import accuracy_score\n",
    "accuracy_score(y_test, y_pred)"
   ]
  },
  {
   "attachments": {},
   "cell_type": "markdown",
   "metadata": {},
   "source": [
    "Clasificacion report"
   ]
  },
  {
   "cell_type": "code",
   "execution_count": 45,
   "metadata": {},
   "outputs": [
    {
     "name": "stdout",
     "output_type": "stream",
     "text": [
      "              precision    recall  f1-score   support\n",
      "\n",
      "       calor       0.99      0.98      0.98       244\n",
      "        frio       0.98      0.99      0.99       393\n",
      "\n",
      "    accuracy                           0.99       637\n",
      "   macro avg       0.99      0.99      0.99       637\n",
      "weighted avg       0.99      0.99      0.99       637\n",
      "\n"
     ]
    }
   ],
   "source": [
    "from sklearn.metrics import classification_report\n",
    "print(classification_report(y_test, y_pred))"
   ]
  },
  {
   "cell_type": "code",
   "execution_count": 46,
   "metadata": {},
   "outputs": [
    {
     "data": {
      "image/png": "[encoded data removed]",
      "text/plain": [
       "<Figure size 1500x1000 with 2 Axes>"
      ]
     },
     "metadata": {},
     "output_type": "display_data"
    }
   ],
   "source": [
    "from sklearn.metrics import confusion_matrix, ConfusionMatrixDisplay\n",
    "\n",
    "disp = ConfusionMatrixDisplay(confusion_matrix=confusion_matrix(y_test, y_pred),\n",
    "                               display_labels=log_r.classes_)\n",
    "disp.plot()\n",
    "\n",
    "plt.show()"
   ]
  },
  {
   "cell_type": "code",
   "execution_count": 47,
   "metadata": {},
   "outputs": [
    {
     "ename": "ValueError",
     "evalue": "could not convert string to float: 'calor'",
     "output_type": "error",
     "traceback": [
      "\u001b[1;31m---------------------------------------------------------------------------\u001b[0m",
      "\u001b[1;31mValueError\u001b[0m                                Traceback (most recent call last)",
      "Cell \u001b[1;32mIn[47], line 3\u001b[0m\n\u001b[0;32m      1\u001b[0m \u001b[39m# Calculo del area bajo la curva ROC\u001b[39;00m\n\u001b[0;32m      2\u001b[0m \u001b[39mfrom\u001b[39;00m \u001b[39msklearn\u001b[39;00m\u001b[39m.\u001b[39;00m\u001b[39mmetrics\u001b[39;00m \u001b[39mimport\u001b[39;00m roc_auc_score\n\u001b[1;32m----> 3\u001b[0m roc_auc_score(y_test, y_pred)\n",
      "File \u001b[1;32mc:\\Users\\Usuario\\Documents\\anaconda3\\lib\\site-packages\\sklearn\\metrics\\_ranking.py:551\u001b[0m, in \u001b[0;36mroc_auc_score\u001b[1;34m(y_true, y_score, average, sample_weight, max_fpr, multi_class, labels)\u001b[0m\n\u001b[0;32m    549\u001b[0m y_type \u001b[39m=\u001b[39m type_of_target(y_true, input_name\u001b[39m=\u001b[39m\u001b[39m\"\u001b[39m\u001b[39my_true\u001b[39m\u001b[39m\"\u001b[39m)\n\u001b[0;32m    550\u001b[0m y_true \u001b[39m=\u001b[39m check_array(y_true, ensure_2d\u001b[39m=\u001b[39m\u001b[39mFalse\u001b[39;00m, dtype\u001b[39m=\u001b[39m\u001b[39mNone\u001b[39;00m)\n\u001b[1;32m--> 551\u001b[0m y_score \u001b[39m=\u001b[39m check_array(y_score, ensure_2d\u001b[39m=\u001b[39;49m\u001b[39mFalse\u001b[39;49;00m)\n\u001b[0;32m    553\u001b[0m \u001b[39mif\u001b[39;00m y_type \u001b[39m==\u001b[39m \u001b[39m\"\u001b[39m\u001b[39mmulticlass\u001b[39m\u001b[39m\"\u001b[39m \u001b[39mor\u001b[39;00m (\n\u001b[0;32m    554\u001b[0m     y_type \u001b[39m==\u001b[39m \u001b[39m\"\u001b[39m\u001b[39mbinary\u001b[39m\u001b[39m\"\u001b[39m \u001b[39mand\u001b[39;00m y_score\u001b[39m.\u001b[39mndim \u001b[39m==\u001b[39m \u001b[39m2\u001b[39m \u001b[39mand\u001b[39;00m y_score\u001b[39m.\u001b[39mshape[\u001b[39m1\u001b[39m] \u001b[39m>\u001b[39m \u001b[39m2\u001b[39m\n\u001b[0;32m    555\u001b[0m ):\n\u001b[0;32m    556\u001b[0m     \u001b[39m# do not support partial ROC computation for multiclass\u001b[39;00m\n\u001b[0;32m    557\u001b[0m     \u001b[39mif\u001b[39;00m max_fpr \u001b[39mis\u001b[39;00m \u001b[39mnot\u001b[39;00m \u001b[39mNone\u001b[39;00m \u001b[39mand\u001b[39;00m max_fpr \u001b[39m!=\u001b[39m \u001b[39m1.0\u001b[39m:\n",
      "File \u001b[1;32mc:\\Users\\Usuario\\Documents\\anaconda3\\lib\\site-packages\\sklearn\\utils\\validation.py:879\u001b[0m, in \u001b[0;36mcheck_array\u001b[1;34m(array, accept_sparse, accept_large_sparse, dtype, order, copy, force_all_finite, ensure_2d, allow_nd, ensure_min_samples, ensure_min_features, estimator, input_name)\u001b[0m\n\u001b[0;32m    877\u001b[0m         array \u001b[39m=\u001b[39m xp\u001b[39m.\u001b[39mastype(array, dtype, copy\u001b[39m=\u001b[39m\u001b[39mFalse\u001b[39;00m)\n\u001b[0;32m    878\u001b[0m     \u001b[39melse\u001b[39;00m:\n\u001b[1;32m--> 879\u001b[0m         array \u001b[39m=\u001b[39m _asarray_with_order(array, order\u001b[39m=\u001b[39;49morder, dtype\u001b[39m=\u001b[39;49mdtype, xp\u001b[39m=\u001b[39;49mxp)\n\u001b[0;32m    880\u001b[0m \u001b[39mexcept\u001b[39;00m ComplexWarning \u001b[39mas\u001b[39;00m complex_warning:\n\u001b[0;32m    881\u001b[0m     \u001b[39mraise\u001b[39;00m \u001b[39mValueError\u001b[39;00m(\n\u001b[0;32m    882\u001b[0m         \u001b[39m\"\u001b[39m\u001b[39mComplex data not supported\u001b[39m\u001b[39m\\n\u001b[39;00m\u001b[39m{}\u001b[39;00m\u001b[39m\\n\u001b[39;00m\u001b[39m\"\u001b[39m\u001b[39m.\u001b[39mformat(array)\n\u001b[0;32m    883\u001b[0m     ) \u001b[39mfrom\u001b[39;00m \u001b[39mcomplex_warning\u001b[39;00m\n",
      "File \u001b[1;32mc:\\Users\\Usuario\\Documents\\anaconda3\\lib\\site-packages\\sklearn\\utils\\_array_api.py:185\u001b[0m, in \u001b[0;36m_asarray_with_order\u001b[1;34m(array, dtype, order, copy, xp)\u001b[0m\n\u001b[0;32m    182\u001b[0m     xp, _ \u001b[39m=\u001b[39m get_namespace(array)\n\u001b[0;32m    183\u001b[0m \u001b[39mif\u001b[39;00m xp\u001b[39m.\u001b[39m\u001b[39m__name__\u001b[39m \u001b[39min\u001b[39;00m {\u001b[39m\"\u001b[39m\u001b[39mnumpy\u001b[39m\u001b[39m\"\u001b[39m, \u001b[39m\"\u001b[39m\u001b[39mnumpy.array_api\u001b[39m\u001b[39m\"\u001b[39m}:\n\u001b[0;32m    184\u001b[0m     \u001b[39m# Use NumPy API to support order\u001b[39;00m\n\u001b[1;32m--> 185\u001b[0m     array \u001b[39m=\u001b[39m numpy\u001b[39m.\u001b[39;49masarray(array, order\u001b[39m=\u001b[39;49morder, dtype\u001b[39m=\u001b[39;49mdtype)\n\u001b[0;32m    186\u001b[0m     \u001b[39mreturn\u001b[39;00m xp\u001b[39m.\u001b[39masarray(array, copy\u001b[39m=\u001b[39mcopy)\n\u001b[0;32m    187\u001b[0m \u001b[39melse\u001b[39;00m:\n",
      "\u001b[1;31mValueError\u001b[0m: could not convert string to float: 'calor'"
     ]
    }
   ],
   "source": [
    "# Calculo del area bajo la curva ROC\n",
    "from sklearn.metrics import roc_auc_score\n",
    "roc_auc_score(y_test, y_pred)"
   ]
  },
  {
   "cell_type": "code",
   "execution_count": null,
   "metadata": {},
   "outputs": [],
   "source": [
    "# Curva ROC\n",
    "from sklearn.metrics import RocCurveDisplay\n",
    "\n",
    "RocCurveDisplay.from_predictions(y_test, y_pred)\n",
    "\n",
    "plt.show()"
   ]
  }
 ],
 "metadata": {
  "kernelspec": {
   "display_name": "Python 3",
   "language": "python",
   "name": "python3"
  },
  "language_info": {
   "codemirror_mode": {
    "name": "ipython",
    "version": 3
   },
   "file_extension": ".py",
   "mimetype": "text/x-python",
   "name": "python",
   "nbconvert_exporter": "python",
   "pygments_lexer": "ipython3",
   "version": "3.10.9"
  },
  "orig_nbformat": 4
 },
 "nbformat": 4,
 "nbformat_minor": 2
}
