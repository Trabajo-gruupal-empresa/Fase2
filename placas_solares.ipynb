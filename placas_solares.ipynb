{
 "cells": [
  {
   "cell_type": "code",
   "execution_count": 4,
   "metadata": {},
   "outputs": [],
   "source": [
    "import pandas as pd\n",
    "import seaborn as sns\n",
    "import matplotlib.pyplot as plt\n",
    "import numpy as np"
   ]
  },
  {
   "cell_type": "code",
   "execution_count": 5,
   "metadata": {},
   "outputs": [],
   "source": [
    "from matplotlib.pyplot import rcParams\n",
    "\n",
    "rcParams['figure.figsize'] = 15, 10\n",
    "rcParams[\"font.weight\"] = \"bold\"\n",
    "rcParams[\"axes.labelweight\"] = \"bold\"\n",
    "rcParams[\"font.size\"] = 12"
   ]
  },
  {
   "cell_type": "code",
   "execution_count": 6,
   "metadata": {},
   "outputs": [
    {
     "data": {
      "text/html": [
       "<div>\n",
       "<style scoped>\n",
       "    .dataframe tbody tr th:only-of-type {\n",
       "        vertical-align: middle;\n",
       "    }\n",
       "\n",
       "    .dataframe tbody tr th {\n",
       "        vertical-align: top;\n",
       "    }\n",
       "\n",
       "    .dataframe thead th {\n",
       "        text-align: right;\n",
       "    }\n",
       "</style>\n",
       "<table border=\"1\" class=\"dataframe\">\n",
       "  <thead>\n",
       "    <tr style=\"text-align: right;\">\n",
       "      <th></th>\n",
       "      <th>date</th>\n",
       "      <th>Cumulative_solar_power</th>\n",
       "      <th>kWh electricity/day</th>\n",
       "      <th>Gas/day</th>\n",
       "    </tr>\n",
       "  </thead>\n",
       "  <tbody>\n",
       "    <tr>\n",
       "      <th>0</th>\n",
       "      <td>26/10/2011</td>\n",
       "      <td>0.1</td>\n",
       "      <td>15.1</td>\n",
       "      <td>9.0</td>\n",
       "    </tr>\n",
       "    <tr>\n",
       "      <th>1</th>\n",
       "      <td>27/10/2011</td>\n",
       "      <td>10.2</td>\n",
       "      <td>7.4</td>\n",
       "      <td>9.2</td>\n",
       "    </tr>\n",
       "    <tr>\n",
       "      <th>2</th>\n",
       "      <td>28/10/2011</td>\n",
       "      <td>20.2</td>\n",
       "      <td>5.8</td>\n",
       "      <td>8.0</td>\n",
       "    </tr>\n",
       "    <tr>\n",
       "      <th>3</th>\n",
       "      <td>29/10/2011</td>\n",
       "      <td>29.6</td>\n",
       "      <td>4.9</td>\n",
       "      <td>6.6</td>\n",
       "    </tr>\n",
       "    <tr>\n",
       "      <th>4</th>\n",
       "      <td>30/10/2011</td>\n",
       "      <td>34.2</td>\n",
       "      <td>11.7</td>\n",
       "      <td>5.3</td>\n",
       "    </tr>\n",
       "    <tr>\n",
       "      <th>...</th>\n",
       "      <td>...</td>\n",
       "      <td>...</td>\n",
       "      <td>...</td>\n",
       "      <td>...</td>\n",
       "    </tr>\n",
       "    <tr>\n",
       "      <th>3299</th>\n",
       "      <td>6/11/2020</td>\n",
       "      <td>36445.0</td>\n",
       "      <td>16.0</td>\n",
       "      <td>11.0</td>\n",
       "    </tr>\n",
       "    <tr>\n",
       "      <th>3300</th>\n",
       "      <td>7/11/2020</td>\n",
       "      <td>36453.0</td>\n",
       "      <td>13.0</td>\n",
       "      <td>13.0</td>\n",
       "    </tr>\n",
       "    <tr>\n",
       "      <th>3301</th>\n",
       "      <td>8/11/2020</td>\n",
       "      <td>36461.0</td>\n",
       "      <td>12.0</td>\n",
       "      <td>11.0</td>\n",
       "    </tr>\n",
       "    <tr>\n",
       "      <th>3302</th>\n",
       "      <td>9/11/2020</td>\n",
       "      <td>36466.0</td>\n",
       "      <td>14.0</td>\n",
       "      <td>10.0</td>\n",
       "    </tr>\n",
       "    <tr>\n",
       "      <th>3303</th>\n",
       "      <td>10/11/2020</td>\n",
       "      <td>36469.0</td>\n",
       "      <td>14.0</td>\n",
       "      <td>9.0</td>\n",
       "    </tr>\n",
       "  </tbody>\n",
       "</table>\n",
       "<p>3304 rows × 4 columns</p>\n",
       "</div>"
      ],
      "text/plain": [
       "            date  Cumulative_solar_power  kWh electricity/day  Gas/day\n",
       "0     26/10/2011                     0.1                 15.1      9.0\n",
       "1     27/10/2011                    10.2                  7.4      9.2\n",
       "2     28/10/2011                    20.2                  5.8      8.0\n",
       "3     29/10/2011                    29.6                  4.9      6.6\n",
       "4     30/10/2011                    34.2                 11.7      5.3\n",
       "...          ...                     ...                  ...      ...\n",
       "3299   6/11/2020                 36445.0                 16.0     11.0\n",
       "3300   7/11/2020                 36453.0                 13.0     13.0\n",
       "3301   8/11/2020                 36461.0                 12.0     11.0\n",
       "3302   9/11/2020                 36466.0                 14.0     10.0\n",
       "3303  10/11/2020                 36469.0                 14.0      9.0\n",
       "\n",
       "[3304 rows x 4 columns]"
      ]
     },
     "execution_count": 6,
     "metadata": {},
     "output_type": "execute_result"
    }
   ],
   "source": [
    "df_placas = pd.read_csv('placas_solares.csv')\n",
    "\n",
    "df_placas"
   ]
  },
  {
   "cell_type": "code",
   "execution_count": 7,
   "metadata": {},
   "outputs": [
    {
     "data": {
      "text/plain": [
       "date                      0\n",
       "Cumulative_solar_power    0\n",
       "kWh electricity/day       0\n",
       "Gas/day                   0\n",
       "dtype: int64"
      ]
     },
     "execution_count": 7,
     "metadata": {},
     "output_type": "execute_result"
    }
   ],
   "source": [
    "df_placas.isna().sum()"
   ]
  },
  {
   "cell_type": "code",
   "execution_count": 8,
   "metadata": {},
   "outputs": [
    {
     "name": "stdout",
     "output_type": "stream",
     "text": [
      "<class 'pandas.core.frame.DataFrame'>\n",
      "RangeIndex: 3304 entries, 0 to 3303\n",
      "Data columns (total 4 columns):\n",
      " #   Column                  Non-Null Count  Dtype  \n",
      "---  ------                  --------------  -----  \n",
      " 0   date                    3304 non-null   object \n",
      " 1   Cumulative_solar_power  3304 non-null   float64\n",
      " 2   kWh electricity/day     3304 non-null   float64\n",
      " 3   Gas/day                 3304 non-null   float64\n",
      "dtypes: float64(3), object(1)\n",
      "memory usage: 103.4+ KB\n"
     ]
    }
   ],
   "source": [
    "df_placas.info()"
   ]
  },
  {
   "cell_type": "code",
   "execution_count": 9,
   "metadata": {},
   "outputs": [
    {
     "data": {
      "text/plain": [
       "0       False\n",
       "1       False\n",
       "2       False\n",
       "3       False\n",
       "4       False\n",
       "        ...  \n",
       "3299    False\n",
       "3300    False\n",
       "3301    False\n",
       "3302    False\n",
       "3303    False\n",
       "Name: date, Length: 3304, dtype: bool"
      ]
     },
     "execution_count": 9,
     "metadata": {},
     "output_type": "execute_result"
    }
   ],
   "source": [
    "df_placas[\"date\"].isna()"
   ]
  },
  {
   "cell_type": "code",
   "execution_count": 10,
   "metadata": {},
   "outputs": [
    {
     "data": {
      "text/plain": [
       "0"
      ]
     },
     "execution_count": 10,
     "metadata": {},
     "output_type": "execute_result"
    }
   ],
   "source": [
    "df_placas[\"date\"].isna().sum()"
   ]
  },
  {
   "cell_type": "code",
   "execution_count": 11,
   "metadata": {},
   "outputs": [
    {
     "data": {
      "text/plain": [
       "Series([], Name: date, dtype: object)"
      ]
     },
     "execution_count": 11,
     "metadata": {},
     "output_type": "execute_result"
    }
   ],
   "source": [
    "df_placas[\"date\"][df_placas[\"date\"].isna()]"
   ]
  },
  {
   "cell_type": "code",
   "execution_count": 12,
   "metadata": {},
   "outputs": [
    {
     "data": {
      "text/html": [
       "<div>\n",
       "<style scoped>\n",
       "    .dataframe tbody tr th:only-of-type {\n",
       "        vertical-align: middle;\n",
       "    }\n",
       "\n",
       "    .dataframe tbody tr th {\n",
       "        vertical-align: top;\n",
       "    }\n",
       "\n",
       "    .dataframe thead th {\n",
       "        text-align: right;\n",
       "    }\n",
       "</style>\n",
       "<table border=\"1\" class=\"dataframe\">\n",
       "  <thead>\n",
       "    <tr style=\"text-align: right;\">\n",
       "      <th></th>\n",
       "      <th>date</th>\n",
       "      <th>Gas/day</th>\n",
       "      <th>Cumulative_solar_power</th>\n",
       "    </tr>\n",
       "  </thead>\n",
       "  <tbody>\n",
       "    <tr>\n",
       "      <th>4</th>\n",
       "      <td>30/10/2011</td>\n",
       "      <td>5.3</td>\n",
       "      <td>34.2</td>\n",
       "    </tr>\n",
       "    <tr>\n",
       "      <th>5</th>\n",
       "      <td>31/10/2011</td>\n",
       "      <td>5.7</td>\n",
       "      <td>38.0</td>\n",
       "    </tr>\n",
       "    <tr>\n",
       "      <th>6</th>\n",
       "      <td>1/11/2011</td>\n",
       "      <td>5.3</td>\n",
       "      <td>46.6</td>\n",
       "    </tr>\n",
       "    <tr>\n",
       "      <th>7</th>\n",
       "      <td>2/11/2011</td>\n",
       "      <td>5.4</td>\n",
       "      <td>51.6</td>\n",
       "    </tr>\n",
       "    <tr>\n",
       "      <th>8</th>\n",
       "      <td>3/11/2011</td>\n",
       "      <td>7.6</td>\n",
       "      <td>58.6</td>\n",
       "    </tr>\n",
       "    <tr>\n",
       "      <th>...</th>\n",
       "      <td>...</td>\n",
       "      <td>...</td>\n",
       "      <td>...</td>\n",
       "    </tr>\n",
       "    <tr>\n",
       "      <th>3295</th>\n",
       "      <td>2/11/2020</td>\n",
       "      <td>6.0</td>\n",
       "      <td>36422.0</td>\n",
       "    </tr>\n",
       "    <tr>\n",
       "      <th>3296</th>\n",
       "      <td>3/11/2020</td>\n",
       "      <td>5.0</td>\n",
       "      <td>36424.0</td>\n",
       "    </tr>\n",
       "    <tr>\n",
       "      <th>3297</th>\n",
       "      <td>4/11/2020</td>\n",
       "      <td>9.0</td>\n",
       "      <td>36430.0</td>\n",
       "    </tr>\n",
       "    <tr>\n",
       "      <th>3298</th>\n",
       "      <td>5/11/2020</td>\n",
       "      <td>11.0</td>\n",
       "      <td>36437.0</td>\n",
       "    </tr>\n",
       "    <tr>\n",
       "      <th>3299</th>\n",
       "      <td>6/11/2020</td>\n",
       "      <td>11.0</td>\n",
       "      <td>36445.0</td>\n",
       "    </tr>\n",
       "  </tbody>\n",
       "</table>\n",
       "<p>3296 rows × 3 columns</p>\n",
       "</div>"
      ],
      "text/plain": [
       "            date  Gas/day  Cumulative_solar_power\n",
       "4     30/10/2011      5.3                    34.2\n",
       "5     31/10/2011      5.7                    38.0\n",
       "6      1/11/2011      5.3                    46.6\n",
       "7      2/11/2011      5.4                    51.6\n",
       "8      3/11/2011      7.6                    58.6\n",
       "...          ...      ...                     ...\n",
       "3295   2/11/2020      6.0                 36422.0\n",
       "3296   3/11/2020      5.0                 36424.0\n",
       "3297   4/11/2020      9.0                 36430.0\n",
       "3298   5/11/2020     11.0                 36437.0\n",
       "3299   6/11/2020     11.0                 36445.0\n",
       "\n",
       "[3296 rows x 3 columns]"
      ]
     },
     "execution_count": 12,
     "metadata": {},
     "output_type": "execute_result"
    }
   ],
   "source": [
    "df_placas[4:3300][[\"date\", \"Gas/day\", \"Cumulative_solar_power\"]]"
   ]
  },
  {
   "cell_type": "code",
   "execution_count": 13,
   "metadata": {},
   "outputs": [
    {
     "data": {
      "text/html": [
       "<div>\n",
       "<style scoped>\n",
       "    .dataframe tbody tr th:only-of-type {\n",
       "        vertical-align: middle;\n",
       "    }\n",
       "\n",
       "    .dataframe tbody tr th {\n",
       "        vertical-align: top;\n",
       "    }\n",
       "\n",
       "    .dataframe thead th {\n",
       "        text-align: right;\n",
       "    }\n",
       "</style>\n",
       "<table border=\"1\" class=\"dataframe\">\n",
       "  <thead>\n",
       "    <tr style=\"text-align: right;\">\n",
       "      <th></th>\n",
       "      <th>date</th>\n",
       "      <th>Cumulative_solar_power</th>\n",
       "      <th>kWh electricity/day</th>\n",
       "      <th>Gas/day</th>\n",
       "    </tr>\n",
       "  </thead>\n",
       "  <tbody>\n",
       "  </tbody>\n",
       "</table>\n",
       "</div>"
      ],
      "text/plain": [
       "Empty DataFrame\n",
       "Columns: [date, Cumulative_solar_power, kWh electricity/day, Gas/day]\n",
       "Index: []"
      ]
     },
     "execution_count": 13,
     "metadata": {},
     "output_type": "execute_result"
    }
   ],
   "source": [
    "df_placas.drop(df_placas.dropna().index)"
   ]
  },
  {
   "cell_type": "code",
   "execution_count": 14,
   "metadata": {},
   "outputs": [
    {
     "data": {
      "text/plain": [
       "3304"
      ]
     },
     "execution_count": 14,
     "metadata": {},
     "output_type": "execute_result"
    }
   ],
   "source": [
    "# No hay nada que limpiar\n",
    "df_placas.shape[0] - 0"
   ]
  },
  {
   "cell_type": "code",
   "execution_count": 15,
   "metadata": {},
   "outputs": [
    {
     "data": {
      "text/html": [
       "<div>\n",
       "<style scoped>\n",
       "    .dataframe tbody tr th:only-of-type {\n",
       "        vertical-align: middle;\n",
       "    }\n",
       "\n",
       "    .dataframe tbody tr th {\n",
       "        vertical-align: top;\n",
       "    }\n",
       "\n",
       "    .dataframe thead th {\n",
       "        text-align: right;\n",
       "    }\n",
       "</style>\n",
       "<table border=\"1\" class=\"dataframe\">\n",
       "  <thead>\n",
       "    <tr style=\"text-align: right;\">\n",
       "      <th></th>\n",
       "      <th>date</th>\n",
       "      <th>Cumulative_solar_power</th>\n",
       "      <th>kWh electricity/day</th>\n",
       "      <th>Gas/day</th>\n",
       "    </tr>\n",
       "  </thead>\n",
       "  <tbody>\n",
       "    <tr>\n",
       "      <th>0</th>\n",
       "      <td>26/10/2011</td>\n",
       "      <td>0.1</td>\n",
       "      <td>15.1</td>\n",
       "      <td>9.0</td>\n",
       "    </tr>\n",
       "    <tr>\n",
       "      <th>1</th>\n",
       "      <td>27/10/2011</td>\n",
       "      <td>10.2</td>\n",
       "      <td>7.4</td>\n",
       "      <td>9.2</td>\n",
       "    </tr>\n",
       "    <tr>\n",
       "      <th>2</th>\n",
       "      <td>28/10/2011</td>\n",
       "      <td>20.2</td>\n",
       "      <td>5.8</td>\n",
       "      <td>8.0</td>\n",
       "    </tr>\n",
       "    <tr>\n",
       "      <th>3</th>\n",
       "      <td>29/10/2011</td>\n",
       "      <td>29.6</td>\n",
       "      <td>4.9</td>\n",
       "      <td>6.6</td>\n",
       "    </tr>\n",
       "    <tr>\n",
       "      <th>4</th>\n",
       "      <td>30/10/2011</td>\n",
       "      <td>34.2</td>\n",
       "      <td>11.7</td>\n",
       "      <td>5.3</td>\n",
       "    </tr>\n",
       "    <tr>\n",
       "      <th>...</th>\n",
       "      <td>...</td>\n",
       "      <td>...</td>\n",
       "      <td>...</td>\n",
       "      <td>...</td>\n",
       "    </tr>\n",
       "    <tr>\n",
       "      <th>3299</th>\n",
       "      <td>6/11/2020</td>\n",
       "      <td>36445.0</td>\n",
       "      <td>16.0</td>\n",
       "      <td>11.0</td>\n",
       "    </tr>\n",
       "    <tr>\n",
       "      <th>3300</th>\n",
       "      <td>7/11/2020</td>\n",
       "      <td>36453.0</td>\n",
       "      <td>13.0</td>\n",
       "      <td>13.0</td>\n",
       "    </tr>\n",
       "    <tr>\n",
       "      <th>3301</th>\n",
       "      <td>8/11/2020</td>\n",
       "      <td>36461.0</td>\n",
       "      <td>12.0</td>\n",
       "      <td>11.0</td>\n",
       "    </tr>\n",
       "    <tr>\n",
       "      <th>3302</th>\n",
       "      <td>9/11/2020</td>\n",
       "      <td>36466.0</td>\n",
       "      <td>14.0</td>\n",
       "      <td>10.0</td>\n",
       "    </tr>\n",
       "    <tr>\n",
       "      <th>3303</th>\n",
       "      <td>10/11/2020</td>\n",
       "      <td>36469.0</td>\n",
       "      <td>14.0</td>\n",
       "      <td>9.0</td>\n",
       "    </tr>\n",
       "  </tbody>\n",
       "</table>\n",
       "<p>3304 rows × 4 columns</p>\n",
       "</div>"
      ],
      "text/plain": [
       "            date  Cumulative_solar_power  kWh electricity/day  Gas/day\n",
       "0     26/10/2011                     0.1                 15.1      9.0\n",
       "1     27/10/2011                    10.2                  7.4      9.2\n",
       "2     28/10/2011                    20.2                  5.8      8.0\n",
       "3     29/10/2011                    29.6                  4.9      6.6\n",
       "4     30/10/2011                    34.2                 11.7      5.3\n",
       "...          ...                     ...                  ...      ...\n",
       "3299   6/11/2020                 36445.0                 16.0     11.0\n",
       "3300   7/11/2020                 36453.0                 13.0     13.0\n",
       "3301   8/11/2020                 36461.0                 12.0     11.0\n",
       "3302   9/11/2020                 36466.0                 14.0     10.0\n",
       "3303  10/11/2020                 36469.0                 14.0      9.0\n",
       "\n",
       "[3304 rows x 4 columns]"
      ]
     },
     "execution_count": 15,
     "metadata": {},
     "output_type": "execute_result"
    }
   ],
   "source": [
    "df_solar_filt = df_placas.dropna().reset_index(drop=True)\n",
    "df_solar_filt"
   ]
  },
  {
   "attachments": {},
   "cell_type": "markdown",
   "metadata": {},
   "source": [
    "## Análisis Exploratotio inicial, tratamiento y limpieza de datos"
   ]
  },
  {
   "cell_type": "code",
   "execution_count": 16,
   "metadata": {},
   "outputs": [
    {
     "data": {
      "text/html": [
       "<div>\n",
       "<style scoped>\n",
       "    .dataframe tbody tr th:only-of-type {\n",
       "        vertical-align: middle;\n",
       "    }\n",
       "\n",
       "    .dataframe tbody tr th {\n",
       "        vertical-align: top;\n",
       "    }\n",
       "\n",
       "    .dataframe thead th {\n",
       "        text-align: right;\n",
       "    }\n",
       "</style>\n",
       "<table border=\"1\" class=\"dataframe\">\n",
       "  <thead>\n",
       "    <tr style=\"text-align: right;\">\n",
       "      <th></th>\n",
       "      <th>Cumulative_solar_power</th>\n",
       "      <th>kWh electricity/day</th>\n",
       "      <th>Gas/day</th>\n",
       "    </tr>\n",
       "  </thead>\n",
       "  <tbody>\n",
       "    <tr>\n",
       "      <th>count</th>\n",
       "      <td>3304.000000</td>\n",
       "      <td>3304.000000</td>\n",
       "      <td>3304.000000</td>\n",
       "    </tr>\n",
       "    <tr>\n",
       "      <th>mean</th>\n",
       "      <td>17616.116435</td>\n",
       "      <td>4.585048</td>\n",
       "      <td>8.343705</td>\n",
       "    </tr>\n",
       "    <tr>\n",
       "      <th>std</th>\n",
       "      <td>10577.158537</td>\n",
       "      <td>9.856726</td>\n",
       "      <td>6.334102</td>\n",
       "    </tr>\n",
       "    <tr>\n",
       "      <th>min</th>\n",
       "      <td>0.100000</td>\n",
       "      <td>-24.000000</td>\n",
       "      <td>0.000000</td>\n",
       "    </tr>\n",
       "    <tr>\n",
       "      <th>25%</th>\n",
       "      <td>8089.500000</td>\n",
       "      <td>-3.000000</td>\n",
       "      <td>2.000000</td>\n",
       "    </tr>\n",
       "    <tr>\n",
       "      <th>50%</th>\n",
       "      <td>17184.500000</td>\n",
       "      <td>6.000000</td>\n",
       "      <td>8.000000</td>\n",
       "    </tr>\n",
       "    <tr>\n",
       "      <th>75%</th>\n",
       "      <td>27116.500000</td>\n",
       "      <td>13.000000</td>\n",
       "      <td>13.000000</td>\n",
       "    </tr>\n",
       "    <tr>\n",
       "      <th>max</th>\n",
       "      <td>36469.000000</td>\n",
       "      <td>34.000000</td>\n",
       "      <td>29.000000</td>\n",
       "    </tr>\n",
       "  </tbody>\n",
       "</table>\n",
       "</div>"
      ],
      "text/plain": [
       "       Cumulative_solar_power  kWh electricity/day      Gas/day\n",
       "count             3304.000000          3304.000000  3304.000000\n",
       "mean             17616.116435             4.585048     8.343705\n",
       "std              10577.158537             9.856726     6.334102\n",
       "min                  0.100000           -24.000000     0.000000\n",
       "25%               8089.500000            -3.000000     2.000000\n",
       "50%              17184.500000             6.000000     8.000000\n",
       "75%              27116.500000            13.000000    13.000000\n",
       "max              36469.000000            34.000000    29.000000"
      ]
     },
     "execution_count": 16,
     "metadata": {},
     "output_type": "execute_result"
    }
   ],
   "source": [
    "df_solar_filt.describe()"
   ]
  },
  {
   "cell_type": "code",
   "execution_count": 17,
   "metadata": {},
   "outputs": [
    {
     "data": {
      "text/plain": [
       "date                       object\n",
       "Cumulative_solar_power    float64\n",
       "kWh electricity/day       float64\n",
       "Gas/day                   float64\n",
       "dtype: object"
      ]
     },
     "execution_count": 17,
     "metadata": {},
     "output_type": "execute_result"
    }
   ],
   "source": [
    "df_solar_filt.dtypes"
   ]
  },
  {
   "cell_type": "code",
   "execution_count": 18,
   "metadata": {},
   "outputs": [
    {
     "data": {
      "text/plain": [
       "date    object\n",
       "dtype: object"
      ]
     },
     "execution_count": 18,
     "metadata": {},
     "output_type": "execute_result"
    }
   ],
   "source": [
    "df_solar_filt.dtypes[df_solar_filt.dtypes == \"object\"]"
   ]
  },
  {
   "cell_type": "code",
   "execution_count": 19,
   "metadata": {},
   "outputs": [],
   "source": [
    "columnas_drop=[\"date\"]"
   ]
  },
  {
   "cell_type": "code",
   "execution_count": 20,
   "metadata": {},
   "outputs": [
    {
     "name": "stdout",
     "output_type": "stream",
     "text": [
      "Tamaño del tablón filtrado:  (3304, 4)\n",
      "Tamaño del tablón nuevo:  (3304, 3)\n"
     ]
    }
   ],
   "source": [
    "df_solar_filt2 = df_solar_filt.drop(columns=columnas_drop)\n",
    "print(\"Tamaño del tablón filtrado: \", df_solar_filt.shape)\n",
    "print(\"Tamaño del tablón nuevo: \", df_solar_filt2.shape)"
   ]
  },
  {
   "cell_type": "code",
   "execution_count": 21,
   "metadata": {},
   "outputs": [
    {
     "data": {
      "text/plain": [
       "float64    3\n",
       "Name: count, dtype: int64"
      ]
     },
     "execution_count": 21,
     "metadata": {},
     "output_type": "execute_result"
    }
   ],
   "source": [
    "df_solar_filt2.dtypes.value_counts()"
   ]
  }
 ],
 "metadata": {
  "kernelspec": {
   "display_name": "Python 3",
   "language": "python",
   "name": "python3"
  },
  "language_info": {
   "codemirror_mode": {
    "name": "ipython",
    "version": 3
   },
   "file_extension": ".py",
   "mimetype": "text/x-python",
   "name": "python",
   "nbconvert_exporter": "python",
   "pygments_lexer": "ipython3",
   "version": "3.10.11"
  },
  "orig_nbformat": 4
 },
 "nbformat": 4,
 "nbformat_minor": 2
}
