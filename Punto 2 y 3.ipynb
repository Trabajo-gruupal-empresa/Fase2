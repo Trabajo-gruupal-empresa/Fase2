{
 "cells": [
  {
   "cell_type": "code",
   "execution_count": 1,
   "id": "c64f20ff",
   "metadata": {},
   "outputs": [],
   "source": [
    "import pandas as pd"
   ]
  },
  {
   "cell_type": "code",
   "execution_count": 21,
   "id": "b0d37336",
   "metadata": {},
   "outputs": [
    {
     "name": "stdout",
     "output_type": "stream",
     "text": [
      "             DATE_TIME  PLANT_ID       SOURCE_KEY  AMBIENT_TEMPERATURE  \\\n",
      "0  2020-05-15 00:00:00   4136001  iq8k7ZNt4Mwm3w0            27.004764   \n",
      "1  2020-05-15 00:15:00   4136001  iq8k7ZNt4Mwm3w0            26.880811   \n",
      "2  2020-05-15 00:30:00   4136001  iq8k7ZNt4Mwm3w0            26.682055   \n",
      "3  2020-05-15 00:45:00   4136001  iq8k7ZNt4Mwm3w0            26.500589   \n",
      "4  2020-05-15 01:00:00   4136001  iq8k7ZNt4Mwm3w0            26.596148   \n",
      "\n",
      "   MODULE_TEMPERATURE  IRRADIATION  \n",
      "0           25.060789          0.0  \n",
      "1           24.421869          0.0  \n",
      "2           24.427290          0.0  \n",
      "3           24.420678          0.0  \n",
      "4           25.088210          0.0  \n"
     ]
    }
   ],
   "source": [
    "df = pd.read_csv(\"Placas-solares.csv\")\n",
    "print(df.head())\n",
    "print(\"--------------------------\")\n",
    "print(\"--------------------------\")\n",
    "df_air_filt.describe()"
   ]
  },
  {
   "cell_type": "code",
   "execution_count": 22,
   "id": "0e1be573",
   "metadata": {},
   "outputs": [
    {
     "name": "stdout",
     "output_type": "stream",
     "text": [
      "--------------------------\n",
      "                DATE_TIME  PLANT_ID       SOURCE_KEY  AMBIENT_TEMPERATURE  \\\n",
      "0     2020-05-15 00:00:00   4136001  iq8k7ZNt4Mwm3w0            27.004764   \n",
      "31    2020-05-15 07:45:00   4136001  iq8k7ZNt4Mwm3w0            27.120288   \n",
      "32    2020-05-15 08:00:00   4136001  iq8k7ZNt4Mwm3w0            27.678970   \n",
      "33    2020-05-15 08:15:00   4136001  iq8k7ZNt4Mwm3w0            27.953492   \n",
      "34    2020-05-15 08:30:00   4136001  iq8k7ZNt4Mwm3w0            28.526215   \n",
      "...                   ...       ...              ...                  ...   \n",
      "3226  2020-06-17 15:45:00   4136001  iq8k7ZNt4Mwm3w0            27.581203   \n",
      "3227  2020-06-17 16:00:00   4136001  iq8k7ZNt4Mwm3w0            27.632586   \n",
      "3228  2020-06-17 16:15:00   4136001  iq8k7ZNt4Mwm3w0            27.648377   \n",
      "3229  2020-06-17 16:30:00   4136001  iq8k7ZNt4Mwm3w0            27.624499   \n",
      "3230  2020-06-17 16:45:00   4136001  iq8k7ZNt4Mwm3w0            27.458806   \n",
      "\n",
      "      MODULE_TEMPERATURE  IRRADIATION  \n",
      "0              25.060789     0.000000  \n",
      "31             34.591562     0.448287  \n",
      "32             35.705856     0.455028  \n",
      "33             36.786898     0.509315  \n",
      "34             38.617749     0.570912  \n",
      "...                  ...          ...  \n",
      "3226           31.601485     0.213639  \n",
      "3227           32.104120     0.196610  \n",
      "3228           31.859704     0.191722  \n",
      "3229           31.734618     0.181766  \n",
      "3230           30.693535     0.119390  \n",
      "\n",
      "[1627 rows x 6 columns]\n",
      "--------------------------\n",
      "0       2020-05-15 00:00:00\n",
      "1       2020-05-15 00:15:00\n",
      "2       2020-05-15 00:30:00\n",
      "3       2020-05-15 00:45:00\n",
      "4       2020-05-15 01:00:00\n",
      "               ...         \n",
      "3254    2020-06-17 22:45:00\n",
      "3255    2020-06-17 23:00:00\n",
      "3256    2020-06-17 23:15:00\n",
      "3257    2020-06-17 23:30:00\n",
      "3258    2020-06-17 23:45:00\n",
      "Name: DATE_TIME, Length: 3259, dtype: object\n",
      "--------------------------\n",
      "2020-05-15 00:00:00\n",
      "--------------------------\n",
      "             DATE_TIME  PLANT_ID       SOURCE_KEY  AMBIENT_TEMPERATURE  \\\n",
      "3  2020-05-15 00:45:00   4136001  iq8k7ZNt4Mwm3w0            26.500589   \n",
      "4  2020-05-15 01:00:00   4136001  iq8k7ZNt4Mwm3w0            26.596148   \n",
      "\n",
      "   MODULE_TEMPERATURE  IRRADIATION  \n",
      "3           24.420678          0.0  \n",
      "4           25.088210          0.0  \n"
     ]
    }
   ],
   "source": [
    "columna1 = df[\"DATE_TIME\"]\n",
    "valor = df.loc[0, \"DATE_TIME\"]\n",
    "fila1 = df.loc[3:4]\n",
    "filtro = df[df[\"AMBIENT_TEMPERATURE\"] >= 27]\n",
    "print(\"--------------------------\")\n",
    "print(filtro)\n",
    "print(\"--------------------------\")\n",
    "print(columna1)\n",
    "print(\"--------------------------\")\n",
    "print(valor)\n",
    "print(\"--------------------------\")\n",
    "print(fila1)"
   ]
  },
  {
   "cell_type": "code",
   "execution_count": 33,
   "id": "98c21c93",
   "metadata": {},
   "outputs": [
    {
     "name": "stdout",
     "output_type": "stream",
     "text": [
      "El valor de cada temperatura al cuadrado es:\n",
      " 0       729.257262\n",
      "1       722.578023\n",
      "2       711.932077\n",
      "3       702.281212\n",
      "4       707.355088\n",
      "           ...    \n",
      "3254    552.800178\n",
      "3255    551.417588\n",
      "3256    545.444001\n",
      "3257    542.472928\n",
      "3258    538.373208\n",
      "Name: AMBIENT_TEMPERATURE, Length: 3259, dtype: float64\n",
      "--------------------------\n",
      "28.06939988232112\n",
      "--------------------------\n",
      "0          27.004764\n",
      "1          53.885575\n",
      "2          80.567630\n",
      "3         107.068219\n",
      "4         133.664367\n",
      "            ...     \n",
      "3254    91384.843273\n",
      "3255    91408.325555\n",
      "3256    91431.680298\n",
      "3257    91454.971346\n",
      "3258    91478.174216\n",
      "Name: AMBIENT_TEMPERATURE, Length: 3259, dtype: float64\n",
      "--------------------------\n"
     ]
    }
   ],
   "source": [
    "# Calcula la media de una columna\n",
    "media = df[\"AMBIENT_TEMPERATURE\"].mean()\n",
    "# Calcula la suma de todos los valores de una columna, en este caso AMBIENT_TEMPERATURE\n",
    "suma_acumulativa = df[\"AMBIENT_TEMPERATURE\"].cumsum()\n",
    "def mi_funcion(x):\n",
    "    return x ** 2\n",
    "\n",
    "columna_procesada = df[\"AMBIENT_TEMPERATURE\"].apply(mi_funcion)\n",
    "print(\"El valor de cada temperatura al cuadrado es:\\n\",columna_procesada)\n",
    "print(\"--------------------------\")\n",
    "print(media)\n",
    "print(\"--------------------------\")\n",
    "print(suma_acumulativa)\n",
    "print(\"--------------------------\")"
   ]
  },
  {
   "cell_type": "code",
   "execution_count": null,
   "id": "50ea4252",
   "metadata": {},
   "outputs": [],
   "source": []
  }
 ],
 "metadata": {
  "kernelspec": {
   "display_name": "Python 3 (ipykernel)",
   "language": "python",
   "name": "python3"
  },
  "language_info": {
   "codemirror_mode": {
    "name": "ipython",
    "version": 3
   },
   "file_extension": ".py",
   "mimetype": "text/x-python",
   "name": "python",
   "nbconvert_exporter": "python",
   "pygments_lexer": "ipython3",
   "version": "3.9.13"
  }
 },
 "nbformat": 4,
 "nbformat_minor": 5
}
