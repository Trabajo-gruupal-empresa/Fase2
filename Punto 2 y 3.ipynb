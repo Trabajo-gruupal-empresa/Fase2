{
 "cells": [
  {
   "cell_type": "code",
   "execution_count": 1,
   "id": "c64f20ff",
   "metadata": {},
   "outputs": [],
   "source": [
    "import pandas as pd\n",
    "import seaborn as sns\n",
    "import matplotlib.pyplot as plt\n",
    "import numpy as np\n",
    "from matplotlib.pyplot import rcParams"
   ]
  },
  {
   "cell_type": "code",
   "execution_count": 2,
   "id": "b0d37336",
   "metadata": {},
   "outputs": [
    {
     "data": {
      "text/html": [
       "<div>\n",
       "<style scoped>\n",
       "    .dataframe tbody tr th:only-of-type {\n",
       "        vertical-align: middle;\n",
       "    }\n",
       "\n",
       "    .dataframe tbody tr th {\n",
       "        vertical-align: top;\n",
       "    }\n",
       "\n",
       "    .dataframe thead th {\n",
       "        text-align: right;\n",
       "    }\n",
       "</style>\n",
       "<table border=\"1\" class=\"dataframe\">\n",
       "  <thead>\n",
       "    <tr style=\"text-align: right;\">\n",
       "      <th></th>\n",
       "      <th>Cumulative_solar_power</th>\n",
       "      <th>kWh electricity/day</th>\n",
       "      <th>Gas/day</th>\n",
       "    </tr>\n",
       "  </thead>\n",
       "  <tbody>\n",
       "    <tr>\n",
       "      <th>count</th>\n",
       "      <td>3304.000000</td>\n",
       "      <td>3304.000000</td>\n",
       "      <td>3304.000000</td>\n",
       "    </tr>\n",
       "    <tr>\n",
       "      <th>mean</th>\n",
       "      <td>17616.116435</td>\n",
       "      <td>4.585048</td>\n",
       "      <td>8.343705</td>\n",
       "    </tr>\n",
       "    <tr>\n",
       "      <th>std</th>\n",
       "      <td>10577.158537</td>\n",
       "      <td>9.856726</td>\n",
       "      <td>6.334102</td>\n",
       "    </tr>\n",
       "    <tr>\n",
       "      <th>min</th>\n",
       "      <td>0.100000</td>\n",
       "      <td>-24.000000</td>\n",
       "      <td>0.000000</td>\n",
       "    </tr>\n",
       "    <tr>\n",
       "      <th>25%</th>\n",
       "      <td>8089.500000</td>\n",
       "      <td>-3.000000</td>\n",
       "      <td>2.000000</td>\n",
       "    </tr>\n",
       "    <tr>\n",
       "      <th>50%</th>\n",
       "      <td>17184.500000</td>\n",
       "      <td>6.000000</td>\n",
       "      <td>8.000000</td>\n",
       "    </tr>\n",
       "    <tr>\n",
       "      <th>75%</th>\n",
       "      <td>27116.500000</td>\n",
       "      <td>13.000000</td>\n",
       "      <td>13.000000</td>\n",
       "    </tr>\n",
       "    <tr>\n",
       "      <th>max</th>\n",
       "      <td>36469.000000</td>\n",
       "      <td>34.000000</td>\n",
       "      <td>29.000000</td>\n",
       "    </tr>\n",
       "  </tbody>\n",
       "</table>\n",
       "</div>"
      ],
      "text/plain": [
       "       Cumulative_solar_power  kWh electricity/day      Gas/day\n",
       "count             3304.000000          3304.000000  3304.000000\n",
       "mean             17616.116435             4.585048     8.343705\n",
       "std              10577.158537             9.856726     6.334102\n",
       "min                  0.100000           -24.000000     0.000000\n",
       "25%               8089.500000            -3.000000     2.000000\n",
       "50%              17184.500000             6.000000     8.000000\n",
       "75%              27116.500000            13.000000    13.000000\n",
       "max              36469.000000            34.000000    29.000000"
      ]
     },
     "execution_count": 2,
     "metadata": {},
     "output_type": "execute_result"
    }
   ],
   "source": [
    "df_placas = pd.read_csv('placas_solares.csv')\n",
    "#obtenemos info de las columnas, la media, desviacion...\n",
    "df_placas.describe()"
   ]
  },
  {
   "cell_type": "code",
   "execution_count": 3,
   "id": "0e1be573",
   "metadata": {},
   "outputs": [
    {
     "data": {
      "text/plain": [
       "date                       object\n",
       "Cumulative_solar_power    float64\n",
       "kWh electricity/day       float64\n",
       "Gas/day                   float64\n",
       "dtype: object"
      ]
     },
     "execution_count": 3,
     "metadata": {},
     "output_type": "execute_result"
    }
   ],
   "source": [
    "df_placas.dtypes"
   ]
  },
  {
   "cell_type": "code",
   "execution_count": 4,
   "id": "98c21c93",
   "metadata": {},
   "outputs": [
    {
     "data": {
      "text/plain": [
       "date    object\n",
       "dtype: object"
      ]
     },
     "execution_count": 4,
     "metadata": {},
     "output_type": "execute_result"
    }
   ],
   "source": [
    "df_placas.dtypes[df_placas.dtypes=='object']"
   ]
  },
  {
   "cell_type": "code",
   "execution_count": 10,
   "id": "50ea4252",
   "metadata": {},
   "outputs": [
    {
     "name": "stdout",
     "output_type": "stream",
     "text": [
      "1.0     394\n",
      "0.0     303\n",
      "13.0    198\n",
      "2.0     188\n",
      "3.0     169\n",
      "       ... \n",
      "18.3      1\n",
      "17.1      1\n",
      "14.5      1\n",
      "17.9      1\n",
      "20.1      1\n",
      "Name: Gas/day, Length: 91, dtype: int64\n",
      "----------\n",
      "26/10/2011    1\n",
      "9/11/2017     1\n",
      "30/10/2017    1\n",
      "31/10/2017    1\n",
      "1/11/2017     1\n",
      "             ..\n",
      "3/11/2014     1\n",
      "4/11/2014     1\n",
      "5/11/2014     1\n",
      "6/11/2014     1\n",
      "10/11/2020    1\n",
      "Name: date, Length: 3304, dtype: int64\n"
     ]
    }
   ],
   "source": [
    "print(df_placas['Gas/day'].value_counts()) #analizamos cuantas veces se repite cada Gas/day\n",
    "print(\"----------\")\n",
    "print(df_placas['date'].value_counts())"
   ]
  },
  {
   "cell_type": "code",
   "execution_count": null,
   "id": "e1c525cd",
   "metadata": {},
   "outputs": [],
   "source": []
  }
 ],
 "metadata": {
  "kernelspec": {
   "display_name": "Python 3 (ipykernel)",
   "language": "python",
   "name": "python3"
  },
  "language_info": {
   "codemirror_mode": {
    "name": "ipython",
    "version": 3
   },
   "file_extension": ".py",
   "mimetype": "text/x-python",
   "name": "python",
   "nbconvert_exporter": "python",
   "pygments_lexer": "ipython3",
   "version": "3.9.13"
  },
  "vscode": {
   "interpreter": {
    "hash": "ad3b0cd1acfef684cc2fde4e9122a3101adc2b8d9568ead10c63363fe6c1f032"
   }
  }
 },
 "nbformat": 4,
 "nbformat_minor": 5
}
